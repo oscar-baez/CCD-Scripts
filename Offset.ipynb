{
 "cells": [
  {
   "cell_type": "code",
   "execution_count": 6,
   "id": "87e4d192",
   "metadata": {},
   "outputs": [],
   "source": [
    "import matplotlib.pyplot as plt\n",
    "import time \n",
    "import numpy as np\n",
    "from astropy.io import fits\n",
    "import os"
   ]
  },
  {
   "cell_type": "code",
   "execution_count": 7,
   "id": "e2d39cd0",
   "metadata": {},
   "outputs": [],
   "source": [
    "directorio='/Users/oscar/Documents/Documentos/Docs/LME/CCD/OscuraImagenes/'\n",
    "contenido = os.listdir(directorio)\n",
    "im=directorio+contenido[4]\n",
    "hdulist = fits.open(im)"
   ]
  },
  {
   "cell_type": "code",
   "execution_count": 16,
   "id": "59b40de8",
   "metadata": {},
   "outputs": [
    {
     "data": {
      "text/plain": [
       "XTENSION= 'IMAGE   '           / IMAGE extension                                \n",
       "BITPIX  =                   32 / number of bits per data pixel                  \n",
       "NAXIS   =                    2 / number of data axes                            \n",
       "NAXIS1  =               134400 / length of data axis 1                          \n",
       "NAXIS2  =                  100 / length of data axis 2                          \n",
       "PCOUNT  =                    0 / required keyword; must = 0                     \n",
       "GCOUNT  =                    1 / required keyword; must = 1                     \n",
       "ANSAMP  = '400     '           / Smart sequencer variable                       \n",
       "CCDNCOL = '2216    '           / Smart sequencer variable                       \n",
       "CCDNPRES= '7       '           / Smart sequencer variable                       \n",
       "CCDNROW = '2556    '           / Smart sequencer variable                       \n",
       "NCOL    = '1200    '           / Smart sequencer variable                       \n",
       "NCOL1   = '1107    '           / Smart sequencer variable                       \n",
       "NCOL2   = '93      '           / Smart sequencer variable                       \n",
       "NROW    = '100     '           / Smart sequencer variable                       \n",
       "NSAMP   = '112     '           / Smart sequencer variable                       \n",
       "HIERARCH DELAY_H_OVERLAP = '50      ' / Smart sequencer variable                \n",
       "HIERARCH DELAY_INTEG_PED = '150     ' / Smart sequencer variable                \n",
       "HIERARCH DELAY_INTEG_SIG = '150     ' / Smart sequencer variable                \n",
       "HIERARCH DELAY_P_INIT = '120     ' / Smart sequencer variable                   \n",
       "HIERARCH DELAY_RG_WIDTH = '15      ' / Smart sequencer variable                 \n",
       "DELAY_SH= '40      '           / Smart sequencer variable                       \n",
       "HIERARCH DELAY_SIGDOWN = '5       ' / Smart sequencer variable                  \n",
       "HIERARCH DELAY_SWHIGH = '12      ' / Smart sequencer variable                   \n",
       "HIERARCH DELAY_S_INIT = '60      ' / Smart sequencer variable                   \n",
       "HIERARCH DELAY_V_OVERLAP = '700     ' / Smart sequencer variable                \n",
       "HIERARCH DELAY_DG_LOW = '15      ' / Smart sequencer variable                   \n",
       "HIERARCH DELAY_HOLD_UNTIL_CONV = '15      ' / Smart sequencer variable          \n",
       "HIERARCH DELAY_INTEG_AFTER_SW_HIGH = '4       ' / Smart sequencer variable      \n",
       "HIERARCH DELAY_MULTIPLEXER = '40      ' / Smart sequencer variable              \n",
       "HIERARCH DELAY_OG_LOW = '15      ' / Smart sequencer variable                   \n",
       "HIERARCH DELAY_RESET_CAP = '90      ' / Smart sequencer variable                \n",
       "HIERARCH DELAY_STOP_INTEG_BEFORE_TOGG = '4       ' / Smart sequencer variable   \n",
       "V1AH    = '5.000   '           / Internal variable                              \n",
       "V1AL    = '-2.500  '           / Internal variable                              \n",
       "V1BH    = '0.000   '           / Internal variable                              \n",
       "V1BL    = '0.000   '           / Internal variable                              \n",
       "V2CH    = '5.000   '           / Internal variable                              \n",
       "V2CL    = '-2.500  '           / Internal variable                              \n",
       "V3AH    = '5.000   '           / Internal variable                              \n",
       "V3AL    = '-2.500  '           / Internal variable                              \n",
       "V3BH    = '0.000   '           / Internal variable                              \n",
       "V3BL    = '0.000   '           / Internal variable                              \n",
       "H1AH    = '4.000   '           / Internal variable                              \n",
       "H1AL    = '-3.500  '           / Internal variable                              \n",
       "H1BH    = '0.000   '           / Internal variable                              \n",
       "H1BL    = '0.000   '           / Internal variable                              \n",
       "H2CH    = '4.000   '           / Internal variable                              \n",
       "H2CL    = '-3.500  '           / Internal variable                              \n",
       "H3AH    = '4.000   '           / Internal variable                              \n",
       "H3AL    = '-3.500  '           / Internal variable                              \n",
       "H3BH    = '0.000   '           / Internal variable                              \n",
       "H3BL    = '0.000   '           / Internal variable                              \n",
       "SWAH    = '3.500   '           / Internal variable                              \n",
       "SWAL    = '-10.000 '           / Internal variable                              \n",
       "SWBH    = '0.000   '           / Internal variable                              \n",
       "SWBL    = '0.000   '           / Internal variable                              \n",
       "RGAH    = '7.000   '           / Internal variable                              \n",
       "RGAL    = '-4.000  '           / Internal variable                              \n",
       "RGBH    = '0.000   '           / Internal variable                              \n",
       "RGBL    = '0.000   '           / Internal variable                              \n",
       "OGAH    = '-2.500  '           / Internal variable                              \n",
       "OGAL    = '-8.000  '           / Internal variable                              \n",
       "OGBH    = '0.000   '           / Internal variable                              \n",
       "OGBL    = '0.000   '           / Internal variable                              \n",
       "DGAH    = '-1.000  '           / Internal variable                              \n",
       "DGAL    = '-10.000 '           / Internal variable                              \n",
       "DGBH    = '0.000   '           / Internal variable                              \n",
       "DGBL    = '0.000   '           / Internal variable                              \n",
       "TGAH    = '4.500   '           / Internal variable                              \n",
       "TGAL    = '-3.000  '           / Internal variable                              \n",
       "TGBH    = '5.000   '           / Internal variable                              \n",
       "TGBL    = '5.000   '           / Internal variable                              \n",
       "LDAC_N  = '0       '           / Internal variable                              \n",
       "CLR_N   = '1       '           / Internal variable                              \n",
       "RESET_N = '1       '           / Internal variable                              \n",
       "SW_EN   = '0       '           / Internal variable                              \n",
       "VDRAIN  = '-22.000 '           / Internal variable                              \n",
       "VDD     = '-17.000 '           / Internal variable                              \n",
       "VR      = '-7.000  '           / Internal variable                              \n",
       "VSUB    = '70.000  '           / Internal variable                              \n",
       "VDD_SW  = '1       '           / Internal variable                              \n",
       "HIERARCH VDRAIN_SW = '1       ' / Internal variable                             \n",
       "VSUB_SW = '1       '           / Internal variable                              \n",
       "HIERARCH VSUB_LOAD_SW = '0       ' / Internal variable                          \n",
       "HIERARCH VSUB_RDIV_SW = '0       ' / Internal variable                          \n",
       "VR_SW   = '1       '           / Internal variable                              \n",
       "P15V_SW = '1       '           / Internal variable                              \n",
       "M15V_SW = '1       '           / Internal variable                              \n",
       "HIERARCH PACKSOURCE = '9       ' / Internal variable                            \n",
       "HIERARCH PACKSTART = '1       ' / Internal variable                             \n",
       "HIERARCH TESTPTRNA = '0       ' / Internal variable                             \n",
       "HIERARCH TESTPTRNB = '0       ' / Internal variable                             \n",
       "HIERARCH TESTPTRNC = '0       ' / Internal variable                             \n",
       "HIERARCH TESTPTRND = '0       ' / Internal variable                             \n",
       "CALSTART= '0       '           / Internal variable                              \n",
       "CALADONE= '1       '           / Internal variable                              \n",
       "CALBDONE= '1       '           / Internal variable                              \n",
       "CALCDONE= '1       '           / Internal variable                              \n",
       "CALDDONE= '1       '           / Internal variable                              \n",
       "CTRLRDY0= '1       '           / Internal variable                              \n",
       "CTRLRDY1= '1       '           / Internal variable                              \n",
       "PINIT   = '4       '           / Internal variable                              \n",
       "SINIT   = '8       '           / Internal variable                              \n",
       "PSAMP   = '4       '           / Internal variable                              \n",
       "SSAMP   = '4       '           / Internal variable                              \n",
       "CDSOUT  = '1       '           / Internal variable                              \n",
       "ECHO    = '0.000   '           / Internal variable                              \n",
       "OUTETH  = '1.000   '           / Internal variable                              \n",
       "LED0    = '1       '           / Internal variable                              \n",
       "LED1    = '1       '           / Internal variable                              \n",
       "LED2    = '0       '           / Internal variable                              \n",
       "LED3    = '0       '           / Internal variable                              \n",
       "LED4    = '0       '           / Internal variable                              \n",
       "LED5    = '0       '           / Internal variable                              \n",
       "BUFSEL  = '0       '           / Internal variable                              \n",
       "BUFSTART= '0       '           / Internal variable                              \n",
       "IPADDR  = '192.168.133.7'      / Internal variable                              \n",
       "ISSLAVE = '0       '           / Internal variable                              \n",
       "SYNCSTOP= '0       '           / Internal variable                              \n",
       "HIERARCH SYNCDELAY = '0       ' / Internal variable                             \n",
       "FRFCLK  = '100000  '           / Internal variable                              \n",
       "FRFMEAS = '1       '           / Internal variable                              \n",
       "SWA     = '-10.000 '           / Internal variable                              \n",
       "SWB     = '-0.046  '           / Internal variable                              \n",
       "OGA     = '-2.551  '           / Internal variable                              \n",
       "OGB     = '-0.056  '           / Internal variable                              \n",
       "RGA     = '6.945   '           / Internal variable                              \n",
       "RGB     = '-0.048  '           / Internal variable                              \n",
       "DGA     = '-1.052  '           / Internal variable                              \n",
       "DGB     = '-0.056  '           / Internal variable                              \n",
       "H1A     = '3.940   '           / Internal variable                              \n",
       "H1B     = '-0.061  '           / Internal variable                              \n",
       "H2C     = '-3.557  '           / Internal variable                              \n",
       "V2C     = '-2.607  '           / Internal variable                              \n",
       "H3A     = '3.933   '           / Internal variable                              \n",
       "H3B     = '0.607   '           / Internal variable                              \n",
       "V1A     = '4.882   '           / Internal variable                              \n",
       "V1B     = '-0.820  '           / Internal variable                              \n",
       "V3A     = '4.887   '           / Internal variable                              \n",
       "V3B     = '-0.112  '           / Internal variable                              \n",
       "TGA     = '4.445   '           / Internal variable                              \n",
       "TGB     = '4.946   '           / Internal variable                              \n",
       "V_P2V5  = '2.497   '           / Internal variable                              \n",
       "V_P1V0  = '0.993   '           / Internal variable                              \n",
       "V_P4V2  = '4.204   '           / Internal variable                              \n",
       "V_P1V8  = '1.787   '           / Internal variable                              \n",
       "V_P5V0  = '4.978   '           / Internal variable                              \n",
       "V_P2V5A = '2.495   '           / Internal variable                              \n",
       "V_P3V3  = '3.291   '           / Internal variable                              \n",
       "V_M15V0 = '-15.223 '           / Internal variable                              \n",
       "V_P12V0 = '11.802  '           / Internal variable                              \n",
       "V_P15V0 = '14.466  '           / Internal variable                              \n",
       "CCD_VDD = '-17.129 '           / Internal variable                              \n",
       "CCD_VR  = '-7.110  '           / Internal variable                              \n",
       "CCD_VSUB= '68.738  '           / Internal variable                              \n",
       "HIERARCH CCD_VDRAIN = '-22.310 ' / Internal variable                            \n",
       "ISMULTI = '0       '           / Multi-LTA mode                                 \n",
       "HIERARCH DATESTART = '2022-08-22T22:38:58' / Timestamp at start of readout      \n",
       "DATEEND = '2022-08-22T23:08:08' / Timestamp at end of readout                   \n",
       "DATE    = '2022-08-22T23:08:21' / file creation date (YYYY-MM-DDThh:mm:ss UT)   \n",
       "CHID    = '15      '           / amplifier ID for this HDU                      \n",
       "RUNID   = '11      '           / run index                                      \n",
       "NPIX    = '13440000'           / number of pixels read from LTA                 "
      ]
     },
     "execution_count": 16,
     "metadata": {},
     "output_type": "execute_result"
    }
   ],
   "source": [
    "hdulist[4].header"
   ]
  },
  {
   "cell_type": "code",
   "execution_count": null,
   "id": "99f39bb5",
   "metadata": {},
   "outputs": [],
   "source": [
    "hdulist.info()"
   ]
  },
  {
   "cell_type": "code",
   "execution_count": 8,
   "id": "5cd47b12",
   "metadata": {},
   "outputs": [],
   "source": [
    "tamx=int(hdulist[4].header['NAXIS1'])\n",
    "tamy=int(hdulist[4].header['NAXIS2'])\n",
    "nsamp=int(hdulist[4].header['NSAMP'])\n",
    "ncol=int(hdulist[4].header['NCOL'])\n",
    "ccdncol=int(hdulist[4].header['CCDNCOL'])\n",
    "tamxpimg=int(tamx/nsamp)\n",
    "scidata = hdulist[4].data\n",
    "img_individual= np.zeros((tamy, tamxpimg),dtype='i4')\n",
    "img_individual_sinoffset= np.zeros((tamy, tamxpimg),dtype='i4')"
   ]
  },
  {
   "cell_type": "code",
   "execution_count": null,
   "id": "fd445794",
   "metadata": {},
   "outputs": [],
   "source": [
    "print(tamxpimg)"
   ]
  },
  {
   "cell_type": "code",
   "execution_count": 9,
   "id": "80d2401f",
   "metadata": {},
   "outputs": [],
   "source": [
    "#Se extrae imagen individual\n",
    "for k in range (0,tamxpimg):\n",
    "    img_individual[:,k]=scidata[:,k*nsamp]"
   ]
  },
  {
   "cell_type": "code",
   "execution_count": 10,
   "id": "94223d2f",
   "metadata": {},
   "outputs": [
    {
     "data": {
      "text/plain": [
       "<matplotlib.colorbar.Colorbar at 0x23e1f81a0a0>"
      ]
     },
     "execution_count": 10,
     "metadata": {},
     "output_type": "execute_result"
    },
    {
     "data": {
      "image/png": "[encoded data removed]",
      "text/plain": [
       "<Figure size 432x288 with 2 Axes>"
      ]
     },
     "metadata": {
      "needs_background": "light"
     },
     "output_type": "display_data"
    }
   ],
   "source": [
    "plt.figure()\n",
    "plt.imshow(img_individual, cmap='gray')\n",
    "plt.colorbar()"
   ]
  },
  {
   "cell_type": "code",
   "execution_count": 11,
   "id": "8d7a1e11",
   "metadata": {},
   "outputs": [],
   "source": [
    "for i in range(tamy):\n",
    "    offset=np.mean(img_individual[i,(tamxpimg-int(ncol-ccdncol/2)):])\n",
    "    img_individual_sinoffset[i,:]=img_individual[i,:]-offset"
   ]
  },
  {
   "cell_type": "code",
   "execution_count": 12,
   "id": "f5160df0",
   "metadata": {},
   "outputs": [
    {
     "data": {
      "text/plain": [
       "<matplotlib.colorbar.Colorbar at 0x23e1f8e4910>"
      ]
     },
     "execution_count": 12,
     "metadata": {},
     "output_type": "execute_result"
    },
    {
     "data": {
      "image/png": "[encoded data removed]",
      "text/plain": [
       "<Figure size 432x288 with 2 Axes>"
      ]
     },
     "metadata": {
      "needs_background": "light"
     },
     "output_type": "display_data"
    }
   ],
   "source": [
    "plt.figure()\n",
    "plt.imshow(img_individual_sinoffset, cmap='gray')\n",
    "plt.colorbar()"
   ]
  },
  {
   "cell_type": "code",
   "execution_count": 13,
   "id": "5ac25cdc",
   "metadata": {},
   "outputs": [
    {
     "name": "stdout",
     "output_type": "stream",
     "text": [
      "Fin\n"
     ]
    }
   ],
   "source": [
    "primary_hdu1=fits.PrimaryHDU(img_individual_sinoffset)\n",
    "hdul=fits.HDUList([primary_hdu1])    \n",
    "hdul.writeto('1ccdimagen5_sinoffset.fits',overwrite=True)\n",
    "print(\"Fin\")"
   ]
  },
  {
   "cell_type": "code",
   "execution_count": 15,
   "id": "2c8cfda8",
   "metadata": {},
   "outputs": [
    {
     "data": {
      "text/plain": [
       "515329"
      ]
     },
     "execution_count": 15,
     "metadata": {},
     "output_type": "execute_result"
    }
   ],
   "source": [
    "img_individual[16][580]"
   ]
  },
  {
   "cell_type": "code",
   "execution_count": null,
   "id": "6d452cee",
   "metadata": {},
   "outputs": [],
   "source": []
  }
 ],
 "metadata": {
  "kernelspec": {
   "display_name": "Python 3 (ipykernel)",
   "language": "python",
   "name": "python3"
  },
  "language_info": {
   "codemirror_mode": {
    "name": "ipython",
    "version": 3
   },
   "file_extension": ".py",
   "mimetype": "text/x-python",
   "name": "python",
   "nbconvert_exporter": "python",
   "pygments_lexer": "ipython3",
   "version": "3.9.12"
  }
 },
 "nbformat": 4,
 "nbformat_minor": 5
}
