{
 "cells": [
  {
   "cell_type": "code",
   "execution_count": 22,
   "id": "161884b6",
   "metadata": {},
   "outputs": [],
   "source": [
    "import matplotlib.pyplot as plt\n",
    "import time \n",
    "import numpy as np\n",
    "from astropy.io import fits\n",
    "import os\n",
    "directorio='/Users/oscar/Documents/Documentos/Docs/LME/CCD/OscuraImagenes/'\n",
    "contenido = os.listdir(directorio)"
   ]
  },
  {
   "cell_type": "code",
   "execution_count": 23,
   "id": "3b50d6e0",
   "metadata": {},
   "outputs": [
    {
     "name": "stdout",
     "output_type": "stream",
     "text": [
      "Se termino la imagen  0\n",
      "Se termino la imagen  1\n",
      "Se termino la imagen  2\n",
      "Se termino la imagen  3\n",
      "Se termino la imagen  4\n"
     ]
    },
    {
     "ename": "PermissionError",
     "evalue": "[Errno 13] Permission denied: '/Users/oscar/Documents/Documentos/Docs/LME/CCD/OscuraImagenes/Extra'",
     "output_type": "error",
     "traceback": [
      "\u001b[1;31m---------------------------------------------------------------------------\u001b[0m",
      "\u001b[1;31mPermissionError\u001b[0m                           Traceback (most recent call last)",
      "Input \u001b[1;32mIn [23]\u001b[0m, in \u001b[0;36m<cell line: 6>\u001b[1;34m()\u001b[0m\n\u001b[0;32m      4\u001b[0m img_CCD16\u001b[38;5;241m=\u001b[39mfits\u001b[38;5;241m.\u001b[39mHDUList([]) \u001b[38;5;66;03m#Se crearan nro_imagenes*nsamp/16 (Ej: 5*112/6=35)\u001b[39;00m\n\u001b[0;32m      6\u001b[0m \u001b[38;5;28;01mfor\u001b[39;00m item \u001b[38;5;129;01min\u001b[39;00m \u001b[38;5;28mrange\u001b[39m(\u001b[38;5;241m0\u001b[39m,\u001b[38;5;28mlen\u001b[39m(contenido)):\n\u001b[1;32m----> 7\u001b[0m     hdulist \u001b[38;5;241m=\u001b[39m \u001b[43mfits\u001b[49m\u001b[38;5;241;43m.\u001b[39;49m\u001b[43mopen\u001b[49m\u001b[43m(\u001b[49m\u001b[43mdirectorio\u001b[49m\u001b[38;5;241;43m+\u001b[39;49m\u001b[43mcontenido\u001b[49m\u001b[43m[\u001b[49m\u001b[43mitem\u001b[49m\u001b[43m]\u001b[49m\u001b[43m)\u001b[49m\n\u001b[0;32m      8\u001b[0m     tamx\u001b[38;5;241m=\u001b[39m\u001b[38;5;28mint\u001b[39m(hdulist[\u001b[38;5;241m4\u001b[39m]\u001b[38;5;241m.\u001b[39mheader[\u001b[38;5;124m'\u001b[39m\u001b[38;5;124mNAXIS1\u001b[39m\u001b[38;5;124m'\u001b[39m]) \u001b[38;5;66;03m#134400\u001b[39;00m\n\u001b[0;32m      9\u001b[0m     tamy\u001b[38;5;241m=\u001b[39m\u001b[38;5;28mint\u001b[39m(hdulist[\u001b[38;5;241m4\u001b[39m]\u001b[38;5;241m.\u001b[39mheader[\u001b[38;5;124m'\u001b[39m\u001b[38;5;124mNAXIS2\u001b[39m\u001b[38;5;124m'\u001b[39m]) \u001b[38;5;66;03m#Varia \u001b[39;00m\n",
      "File \u001b[1;32m~\\anaconda3\\lib\\site-packages\\astropy\\io\\fits\\hdu\\hdulist.py:176\u001b[0m, in \u001b[0;36mfitsopen\u001b[1;34m(name, mode, memmap, save_backup, cache, lazy_load_hdus, ignore_missing_simple, **kwargs)\u001b[0m\n\u001b[0;32m    173\u001b[0m \u001b[38;5;28;01mif\u001b[39;00m \u001b[38;5;129;01mnot\u001b[39;00m name:\n\u001b[0;32m    174\u001b[0m     \u001b[38;5;28;01mraise\u001b[39;00m \u001b[38;5;167;01mValueError\u001b[39;00m(\u001b[38;5;124mf\u001b[39m\u001b[38;5;124m'\u001b[39m\u001b[38;5;124mEmpty filename: \u001b[39m\u001b[38;5;132;01m{\u001b[39;00mname\u001b[38;5;132;01m!r}\u001b[39;00m\u001b[38;5;124m'\u001b[39m)\n\u001b[1;32m--> 176\u001b[0m \u001b[38;5;28;01mreturn\u001b[39;00m HDUList\u001b[38;5;241m.\u001b[39mfromfile(name, mode, memmap, save_backup, cache,\n\u001b[0;32m    177\u001b[0m                         lazy_load_hdus, ignore_missing_simple, \u001b[38;5;241m*\u001b[39m\u001b[38;5;241m*\u001b[39mkwargs)\n",
      "File \u001b[1;32m~\\anaconda3\\lib\\site-packages\\astropy\\io\\fits\\hdu\\hdulist.py:411\u001b[0m, in \u001b[0;36mHDUList.fromfile\u001b[1;34m(cls, fileobj, mode, memmap, save_backup, cache, lazy_load_hdus, ignore_missing_simple, **kwargs)\u001b[0m\n\u001b[0;32m    399\u001b[0m \u001b[38;5;129m@classmethod\u001b[39m\n\u001b[0;32m    400\u001b[0m \u001b[38;5;28;01mdef\u001b[39;00m \u001b[38;5;21mfromfile\u001b[39m(\u001b[38;5;28mcls\u001b[39m, fileobj, mode\u001b[38;5;241m=\u001b[39m\u001b[38;5;28;01mNone\u001b[39;00m, memmap\u001b[38;5;241m=\u001b[39m\u001b[38;5;28;01mNone\u001b[39;00m,\n\u001b[0;32m    401\u001b[0m              save_backup\u001b[38;5;241m=\u001b[39m\u001b[38;5;28;01mFalse\u001b[39;00m, cache\u001b[38;5;241m=\u001b[39m\u001b[38;5;28;01mTrue\u001b[39;00m, lazy_load_hdus\u001b[38;5;241m=\u001b[39m\u001b[38;5;28;01mTrue\u001b[39;00m,\n\u001b[0;32m    402\u001b[0m              ignore_missing_simple\u001b[38;5;241m=\u001b[39m\u001b[38;5;28;01mFalse\u001b[39;00m, \u001b[38;5;241m*\u001b[39m\u001b[38;5;241m*\u001b[39mkwargs):\n\u001b[0;32m    403\u001b[0m     \u001b[38;5;124;03m\"\"\"\u001b[39;00m\n\u001b[0;32m    404\u001b[0m \u001b[38;5;124;03m    Creates an `HDUList` instance from a file-like object.\u001b[39;00m\n\u001b[0;32m    405\u001b[0m \n\u001b[1;32m   (...)\u001b[0m\n\u001b[0;32m    408\u001b[0m \u001b[38;5;124;03m    documentation for details of the parameters accepted by this method).\u001b[39;00m\n\u001b[0;32m    409\u001b[0m \u001b[38;5;124;03m    \"\"\"\u001b[39;00m\n\u001b[1;32m--> 411\u001b[0m     \u001b[38;5;28;01mreturn\u001b[39;00m \u001b[38;5;28mcls\u001b[39m\u001b[38;5;241m.\u001b[39m_readfrom(fileobj\u001b[38;5;241m=\u001b[39mfileobj, mode\u001b[38;5;241m=\u001b[39mmode, memmap\u001b[38;5;241m=\u001b[39mmemmap,\n\u001b[0;32m    412\u001b[0m                          save_backup\u001b[38;5;241m=\u001b[39msave_backup, cache\u001b[38;5;241m=\u001b[39mcache,\n\u001b[0;32m    413\u001b[0m                          ignore_missing_simple\u001b[38;5;241m=\u001b[39mignore_missing_simple,\n\u001b[0;32m    414\u001b[0m                          lazy_load_hdus\u001b[38;5;241m=\u001b[39mlazy_load_hdus, \u001b[38;5;241m*\u001b[39m\u001b[38;5;241m*\u001b[39mkwargs)\n",
      "File \u001b[1;32m~\\anaconda3\\lib\\site-packages\\astropy\\io\\fits\\hdu\\hdulist.py:1071\u001b[0m, in \u001b[0;36mHDUList._readfrom\u001b[1;34m(cls, fileobj, data, mode, memmap, cache, lazy_load_hdus, ignore_missing_simple, **kwargs)\u001b[0m\n\u001b[0;32m   1068\u001b[0m \u001b[38;5;28;01mif\u001b[39;00m fileobj \u001b[38;5;129;01mis\u001b[39;00m \u001b[38;5;129;01mnot\u001b[39;00m \u001b[38;5;28;01mNone\u001b[39;00m:\n\u001b[0;32m   1069\u001b[0m     \u001b[38;5;28;01mif\u001b[39;00m \u001b[38;5;129;01mnot\u001b[39;00m \u001b[38;5;28misinstance\u001b[39m(fileobj, _File):\n\u001b[0;32m   1070\u001b[0m         \u001b[38;5;66;03m# instantiate a FITS file object (ffo)\u001b[39;00m\n\u001b[1;32m-> 1071\u001b[0m         fileobj \u001b[38;5;241m=\u001b[39m \u001b[43m_File\u001b[49m\u001b[43m(\u001b[49m\u001b[43mfileobj\u001b[49m\u001b[43m,\u001b[49m\u001b[43m \u001b[49m\u001b[43mmode\u001b[49m\u001b[38;5;241;43m=\u001b[39;49m\u001b[43mmode\u001b[49m\u001b[43m,\u001b[49m\u001b[43m \u001b[49m\u001b[43mmemmap\u001b[49m\u001b[38;5;241;43m=\u001b[39;49m\u001b[43mmemmap\u001b[49m\u001b[43m,\u001b[49m\u001b[43m \u001b[49m\u001b[43mcache\u001b[49m\u001b[38;5;241;43m=\u001b[39;49m\u001b[43mcache\u001b[49m\u001b[43m)\u001b[49m\n\u001b[0;32m   1072\u001b[0m     \u001b[38;5;66;03m# The Astropy mode is determined by the _File initializer if the\u001b[39;00m\n\u001b[0;32m   1073\u001b[0m     \u001b[38;5;66;03m# supplied mode was None\u001b[39;00m\n\u001b[0;32m   1074\u001b[0m     mode \u001b[38;5;241m=\u001b[39m fileobj\u001b[38;5;241m.\u001b[39mmode\n",
      "File \u001b[1;32m~\\anaconda3\\lib\\site-packages\\astropy\\utils\\decorators.py:546\u001b[0m, in \u001b[0;36mdeprecated_renamed_argument.<locals>.decorator.<locals>.wrapper\u001b[1;34m(*args, **kwargs)\u001b[0m\n\u001b[0;32m    543\u001b[0m             msg \u001b[38;5;241m+\u001b[39m\u001b[38;5;241m=\u001b[39m \u001b[38;5;124mf\u001b[39m\u001b[38;5;124m'\u001b[39m\u001b[38;5;130;01m\\n\u001b[39;00m\u001b[38;5;124m        Use \u001b[39m\u001b[38;5;132;01m{\u001b[39;00malternative\u001b[38;5;132;01m}\u001b[39;00m\u001b[38;5;124m instead.\u001b[39m\u001b[38;5;124m'\u001b[39m\n\u001b[0;32m    544\u001b[0m         warnings\u001b[38;5;241m.\u001b[39mwarn(msg, warning_type, stacklevel\u001b[38;5;241m=\u001b[39m\u001b[38;5;241m2\u001b[39m)\n\u001b[1;32m--> 546\u001b[0m \u001b[38;5;28;01mreturn\u001b[39;00m function(\u001b[38;5;241m*\u001b[39margs, \u001b[38;5;241m*\u001b[39m\u001b[38;5;241m*\u001b[39mkwargs)\n",
      "File \u001b[1;32m~\\anaconda3\\lib\\site-packages\\astropy\\io\\fits\\file.py:175\u001b[0m, in \u001b[0;36m_File.__init__\u001b[1;34m(self, fileobj, mode, memmap, overwrite, cache)\u001b[0m\n\u001b[0;32m    173\u001b[0m     \u001b[38;5;28mself\u001b[39m\u001b[38;5;241m.\u001b[39m_open_fileobj(fileobj, mode, overwrite)\n\u001b[0;32m    174\u001b[0m \u001b[38;5;28;01melif\u001b[39;00m \u001b[38;5;28misinstance\u001b[39m(fileobj, (\u001b[38;5;28mstr\u001b[39m, \u001b[38;5;28mbytes\u001b[39m)):\n\u001b[1;32m--> 175\u001b[0m     \u001b[38;5;28;43mself\u001b[39;49m\u001b[38;5;241;43m.\u001b[39;49m\u001b[43m_open_filename\u001b[49m\u001b[43m(\u001b[49m\u001b[43mfileobj\u001b[49m\u001b[43m,\u001b[49m\u001b[43m \u001b[49m\u001b[43mmode\u001b[49m\u001b[43m,\u001b[49m\u001b[43m \u001b[49m\u001b[43moverwrite\u001b[49m\u001b[43m)\u001b[49m\n\u001b[0;32m    176\u001b[0m \u001b[38;5;28;01melse\u001b[39;00m:\n\u001b[0;32m    177\u001b[0m     \u001b[38;5;28mself\u001b[39m\u001b[38;5;241m.\u001b[39m_open_filelike(fileobj, mode, overwrite)\n",
      "File \u001b[1;32m~\\anaconda3\\lib\\site-packages\\astropy\\io\\fits\\file.py:556\u001b[0m, in \u001b[0;36m_File._open_filename\u001b[1;34m(self, filename, mode, overwrite)\u001b[0m\n\u001b[0;32m    553\u001b[0m     \u001b[38;5;28mself\u001b[39m\u001b[38;5;241m.\u001b[39m_overwrite_existing(overwrite, \u001b[38;5;28;01mNone\u001b[39;00m, \u001b[38;5;28;01mTrue\u001b[39;00m)\n\u001b[0;32m    555\u001b[0m \u001b[38;5;28;01mif\u001b[39;00m os\u001b[38;5;241m.\u001b[39mpath\u001b[38;5;241m.\u001b[39mexists(\u001b[38;5;28mself\u001b[39m\u001b[38;5;241m.\u001b[39mname):\n\u001b[1;32m--> 556\u001b[0m     \u001b[38;5;28;01mwith\u001b[39;00m \u001b[43mfileobj_open\u001b[49m\u001b[43m(\u001b[49m\u001b[38;5;28;43mself\u001b[39;49m\u001b[38;5;241;43m.\u001b[39;49m\u001b[43mname\u001b[49m\u001b[43m,\u001b[49m\u001b[43m \u001b[49m\u001b[38;5;124;43m'\u001b[39;49m\u001b[38;5;124;43mrb\u001b[39;49m\u001b[38;5;124;43m'\u001b[39;49m\u001b[43m)\u001b[49m \u001b[38;5;28;01mas\u001b[39;00m f:\n\u001b[0;32m    557\u001b[0m         magic \u001b[38;5;241m=\u001b[39m f\u001b[38;5;241m.\u001b[39mread(\u001b[38;5;241m4\u001b[39m)\n\u001b[0;32m    558\u001b[0m \u001b[38;5;28;01melse\u001b[39;00m:\n",
      "File \u001b[1;32m~\\anaconda3\\lib\\site-packages\\astropy\\io\\fits\\util.py:388\u001b[0m, in \u001b[0;36mfileobj_open\u001b[1;34m(filename, mode)\u001b[0m\n\u001b[0;32m    378\u001b[0m \u001b[38;5;28;01mdef\u001b[39;00m \u001b[38;5;21mfileobj_open\u001b[39m(filename, mode):\n\u001b[0;32m    379\u001b[0m     \u001b[38;5;124;03m\"\"\"\u001b[39;00m\n\u001b[0;32m    380\u001b[0m \u001b[38;5;124;03m    A wrapper around the `open()` builtin.\u001b[39;00m\n\u001b[0;32m    381\u001b[0m \n\u001b[1;32m   (...)\u001b[0m\n\u001b[0;32m    385\u001b[0m \u001b[38;5;124;03m    a raw random-access file reader.\u001b[39;00m\n\u001b[0;32m    386\u001b[0m \u001b[38;5;124;03m    \"\"\"\u001b[39;00m\n\u001b[1;32m--> 388\u001b[0m     \u001b[38;5;28;01mreturn\u001b[39;00m \u001b[38;5;28;43mopen\u001b[39;49m\u001b[43m(\u001b[49m\u001b[43mfilename\u001b[49m\u001b[43m,\u001b[49m\u001b[43m \u001b[49m\u001b[43mmode\u001b[49m\u001b[43m,\u001b[49m\u001b[43m \u001b[49m\u001b[43mbuffering\u001b[49m\u001b[38;5;241;43m=\u001b[39;49m\u001b[38;5;241;43m0\u001b[39;49m\u001b[43m)\u001b[49m\n",
      "\u001b[1;31mPermissionError\u001b[0m: [Errno 13] Permission denied: '/Users/oscar/Documents/Documentos/Docs/LME/CCD/OscuraImagenes/Extra'"
     ]
    }
   ],
   "source": [
    "# Loop sobre todas las imagenes, se guarda en img_total cada ccd en fila demultiplexado\n",
    "st = time.time()\n",
    "#data=fits.HDUList([])\n",
    "img_CCD16=fits.HDUList([]) #Se crearan nro_imagenes*nsamp/16 (Ej: 5*112/6=35)\n",
    "\n",
    "for item in range(0,len(contenido)):\n",
    "    hdulist = fits.open(directorio+contenido[item])\n",
    "    tamx=int(hdulist[4].header['NAXIS1']) #134400\n",
    "    tamy=int(hdulist[4].header['NAXIS2']) #Varia \n",
    "    nsamp=int(hdulist[4].header['NSAMP']) #112\n",
    "    ncol=int(hdulist[4].header['NCOL'])\n",
    "    ccdncol=int(hdulist[4].header['CCDNCOL'])\n",
    "    scidata = hdulist[4].data\n",
    "    tamxpimg=int(tamx/nsamp)\n",
    "    div=16 #Variable multiplo de 2^n \n",
    "    for j in range(int(nsamp/16)):                        #Se recorre nsamp/16=7 veces por cada imagen \n",
    "        img_parcial= np.zeros((tamy,int(div*(tamx/nsamp))),'i4')  #Se crean las imagenes parciales \n",
    "        for i in range(div):                               #Se recorre 16 veces para ir agarrando 16 CCD  \n",
    "            for k in range(tamxpimg):              #Se recorre tamx/nsamp=1200 veces para agarrar un CCD\n",
    "                img_parcial[:,k+i*tamxpimg]=scidata[:,(k*nsamp)+(i+div*j)] \n",
    "            for p in range(tamy):\n",
    "                #print(\"Se sacara el offset de las columnas \",tamxpimg*(i+1)-int(ncol-ccdncol/2),\"hasta la \", tamxpimg*(i+1), \"en la fila \",p)\n",
    "                offset=np.mean(img_parcial[p,tamxpimg*(i+1)-int(ncol-ccdncol/2):tamxpimg*(i+1)])\n",
    "                #print(\"el offset es\",offset)\n",
    "                img_parcial[p,tamxpimg*(i+1)-int(ncol-ccdncol/2):tamxpimg*(i+1)]=img_parcial[p,tamxpimg*(i+1)-int(ncol-ccdncol/2):tamxpimg*(i+1)]-offset\n",
    "        img_CCD16.append(fits.ImageHDU(img_parcial))        #Se agrega una imagen a la lista tras recorrer 16 CCD\n",
    "    #Proceso de guardado\n",
    "    nombre=str(\"Imagen\"+str(item)+\".fits\")\n",
    "    hdul=fits.HDUList(img_CCD16)    \n",
    "    hdul.writeto(nombre,overwrite=True)\n",
    "    print('Se termino la imagen ',item)\n",
    "    img_CCD16.clear()\n",
    "et = time.time()\n",
    "elapsed_time = et - st\n",
    "print('Execution time:', elapsed_time, 'seconds')"
   ]
  },
  {
   "cell_type": "code",
   "execution_count": null,
   "id": "c92e6c4f",
   "metadata": {},
   "outputs": [],
   "source": []
  }
 ],
 "metadata": {
  "kernelspec": {
   "display_name": "Python 3 (ipykernel)",
   "language": "python",
   "name": "python3"
  },
  "language_info": {
   "codemirror_mode": {
    "name": "ipython",
    "version": 3
   },
   "file_extension": ".py",
   "mimetype": "text/x-python",
   "name": "python",
   "nbconvert_exporter": "python",
   "pygments_lexer": "ipython3",
   "version": "3.9.12"
  }
 },
 "nbformat": 4,
 "nbformat_minor": 5
}
