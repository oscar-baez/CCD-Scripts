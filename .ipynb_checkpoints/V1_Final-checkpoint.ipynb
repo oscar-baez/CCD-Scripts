{
 "cells": [
  {
   "cell_type": "code",
   "execution_count": 12,
   "id": "161884b6",
   "metadata": {},
   "outputs": [],
   "source": [
    "import matplotlib.pyplot as plt\n",
    "import time \n",
    "import numpy as np\n",
    "from astropy.io import fits\n",
    "import os\n",
    "directorio='/Users/oscar/Documents/Documentos/Docs/LME/CCD/OscuraImagenes/'\n",
    "#directorio='/Users/oscar/Documents/Documentos/Docs/LME/CCD/ImagenPrueba/'\n",
    "contenido = os.listdir(directorio)"
   ]
  },
  {
   "cell_type": "code",
   "execution_count": 13,
   "id": "3b50d6e0",
   "metadata": {},
   "outputs": [
    {
     "name": "stdout",
     "output_type": "stream",
     "text": [
      "Se termino la imagen  0\n",
      "Se termino la imagen  1\n",
      "Se termino la imagen  2\n",
      "Se termino la imagen  3\n",
      "Se termino la imagen  4\n",
      "Execution time: 27.37057638168335 seconds\n"
     ]
    }
   ],
   "source": [
    "# Loop sobre todas las imagenes, se guarda en img_total cada ccd en fila demultiplexado\n",
    "st = time.time()\n",
    "#data=fits.HDUList([])\n",
    "img_CCD16=fits.HDUList([]) #Se crearan nro_imagenes*nsamp/16 (Ej: 5*112/6=35)\n",
    "\n",
    "for item in range(0,len(contenido)):\n",
    "    hdulist = fits.open(directorio+contenido[item])\n",
    "    tamx=int(hdulist[4].header['NAXIS1']) #134400\n",
    "    tamy=int(hdulist[4].header['NAXIS2']) #Varia \n",
    "    nsamp=int(hdulist[4].header['NSAMP']) #112\n",
    "    ncol=int(hdulist[4].header['NCOL'])\n",
    "    ccdncol=int(hdulist[4].header['CCDNCOL'])\n",
    "    scidata = hdulist[4].data\n",
    "    tamxpimg=int(tamx/nsamp)\n",
    "    div=16 #Variable multiplo de 2^n \n",
    "    for j in range(int(nsamp/16)):                        #Se recorre nsamp/16=7 veces por cada imagen \n",
    "        img_parcial= np.zeros((tamy,int(div*(tamx/nsamp))),'i4')  #Se crean las imagenes parciales \n",
    "        for i in range(div):                               #Se recorre 16 veces para ir agarrando 16 CCD  \n",
    "            for k in range(tamxpimg):              #Se recorre tamx/nsamp=1200 veces para agarrar un CCD\n",
    "                img_parcial[:,k+i*tamxpimg]=scidata[:,(k*nsamp)+(i+div*j)] \n",
    "            for p in range(tamy):\n",
    "                #print(\"Se sacara el offset de las columnas \",tamxpimg*(i+1)-int(ncol-ccdncol/2),\"hasta la \", tamxpimg*(i+1), \"en la fila \",p)\n",
    "                offset=np.mean(img_parcial[p,(tamxpimg*(i+1)-int(ncol-ccdncol/2)):tamxpimg*(i+1)])\n",
    "                #print(\"el offset es\",offset)\n",
    "                img_parcial[p,tamxpimg*(i):tamxpimg*(i+1)]=img_parcial[p,tamxpimg*(i):tamxpimg*(i+1)]-offset\n",
    "        img_CCD16.append(fits.ImageHDU(img_parcial))        #Se agrega una imagen a la lista tras recorrer 16 CCD\n",
    "    #Proceso de guardado\n",
    "    nombre=str(\"Imagen\"+str(item)+\".fits\")\n",
    "    hdul=fits.HDUList(img_CCD16)    \n",
    "    hdul.writeto(nombre,overwrite=True)\n",
    "    print('Se termino la imagen ',item)\n",
    "    img_CCD16.clear()\n",
    "et = time.time()\n",
    "elapsed_time = et - st\n",
    "print('Execution time:', elapsed_time, 'seconds')"
   ]
  },
  {
   "cell_type": "code",
   "execution_count": null,
   "id": "6e423de6",
   "metadata": {},
   "outputs": [],
   "source": []
  }
 ],
 "metadata": {
  "kernelspec": {
   "display_name": "Python 3 (ipykernel)",
   "language": "python",
   "name": "python3"
  },
  "language_info": {
   "codemirror_mode": {
    "name": "ipython",
    "version": 3
   },
   "file_extension": ".py",
   "mimetype": "text/x-python",
   "name": "python",
   "nbconvert_exporter": "python",
   "pygments_lexer": "ipython3",
   "version": "3.9.12"
  }
 },
 "nbformat": 4,
 "nbformat_minor": 5
}
