{
 "cells": [
  {
   "cell_type": "code",
   "execution_count": 1,
   "id": "aee723af",
   "metadata": {},
   "outputs": [],
   "source": [
    "import matplotlib.pyplot as plt\n",
    "import time \n",
    "import numpy as np\n",
    "from astropy.io import fits\n",
    "import os"
   ]
  },
  {
   "cell_type": "code",
   "execution_count": 2,
   "id": "2d851d26",
   "metadata": {
    "scrolled": false
   },
   "outputs": [],
   "source": [
    "directorio='/Users/oscar/Documents/Documentos/Docs/LME/CCD/OscuraImagenes/'\n",
    "contenido = os.listdir(directorio)"
   ]
  },
  {
   "cell_type": "code",
   "execution_count": null,
   "id": "6bbceeb4",
   "metadata": {},
   "outputs": [],
   "source": [
    "# Loop sobre todas las imagenes, se guarda en img_total cada ccd en fila demultiplexado\n",
    "st = time.time()\n",
    "#nsamp=112\n",
    "#1200= tamx/nsamp\n",
    "#img_individual= np.zeros((tamx, tamy))\n",
    "for item in range(0,len(contenido)):\n",
    "    hdulist = fits.open(directorio+contenido[item])\n",
    "    tamx=int(hdulist[4].header['NAXIS1'])\n",
    "    tamy=int(hdulist[4].header['NAXIS2'])\n",
    "    nsamp=int(hdulist[4].header['NSAMP'])\n",
    "    scidata = hdulist[4].data\n",
    "    img_total= np.zeros((tamy, tamx))\n",
    "    for i in range(0,nsamp):\n",
    "        for k in range (0,int(tamx/nsamp)):\n",
    "            img_total[:,k+i]=scidata[:,(k*nsamp)+i]\n",
    "    print('Se termino la imagen ',item)   \n",
    "    #plt.figure()\n",
    "    #plt.imshow(img_total, cmap='gray')\n",
    "    #plt.colorbar()\n",
    "et = time.time()\n",
    "elapsed_time = et - st\n",
    "print('Execution time:', elapsed_time, 'seconds')"
   ]
  },
  {
   "cell_type": "code",
   "execution_count": null,
   "id": "405295b4",
   "metadata": {},
   "outputs": [],
   "source": [
    "#Prueba para imprimir una imagen \n",
    "#Faltan ajustes\n",
    "for k in range (0,1200):\n",
    "    img_individual[:,k]=scidata[:,(k*112)+110]\n",
    "plt.figure()\n",
    "plt.imshow(img_individual, cmap='gray')\n",
    "plt.colorbar()"
   ]
  },
  {
   "cell_type": "code",
   "execution_count": 8,
   "id": "b5dac1e5",
   "metadata": {},
   "outputs": [],
   "source": [
    "import concurrent.futures"
   ]
  },
  {
   "cell_type": "code",
   "execution_count": 9,
   "id": "4ae0f663",
   "metadata": {},
   "outputs": [],
   "source": [
    "#Probar paralelizando\n",
    "\n",
    "#Funcion a paralelizar demux\n",
    "def demux(nombre):\n",
    "    hdulist = fits.open(nombre)\n",
    "    tamx=int(hdulist[4].header['NAXIS1'])\n",
    "    tamy=int(hdulist[4].header['NAXIS2'])\n",
    "    nsamp=int(hdulist[4].header['NSAMP'])\n",
    "    scidata = hdulist[4].data\n",
    "    img_total= np.zeros((tamy, tamx))\n",
    "    for i in range(0,nsamp):\n",
    "        for k in range (0,int(tamx/nsamp)):\n",
    "            img_total[:,k+i]=scidata[:,(k*nsamp)+i]\n",
    "    print('Se termino la imagen ') \n",
    "    "
   ]
  },
  {
   "cell_type": "code",
   "execution_count": 10,
   "id": "ddb4a4da",
   "metadata": {},
   "outputs": [
    {
     "name": "stdout",
     "output_type": "stream",
     "text": [
      "Se termino la imagen \n",
      "Se termino la imagen \n",
      "Se termino la imagen \n",
      "Se termino la imagen \n",
      "Se termino la imagen \n",
      "Finished in 10.154880999999932 seconds\n"
     ]
    }
   ],
   "source": [
    "##Main\n",
    "if __name__ == '__main__':    \n",
    "    directorio='/Users/oscar/Documents/Documentos/Docs/LME/CCD/OscuraImagenes/'\n",
    "    contenido = os.listdir(directorio)\n",
    "    for j in range(0,len(contenido)):\n",
    "        contenido[j]=directorio+contenido[j]\n",
    "    t1 = time.perf_counter()\n",
    "    #with concurrent.futures.ProcessPoolExecutor() as executor:\n",
    "    with concurrent.futures.ThreadPoolExecutor() as executor:\n",
    "        executor.map(demux, contenido)\n",
    "    t2 = time.perf_counter()\n",
    "    print(f'Finished in {t2-t1} seconds')\n"
   ]
  },
  {
   "cell_type": "code",
   "execution_count": 11,
   "id": "cb140d98",
   "metadata": {},
   "outputs": [
    {
     "name": "stdout",
     "output_type": "stream",
     "text": [
      "['/Users/oscar/Documents/Documentos/Docs/LME/CCD/OscuraImagenes/ANSAMP1_clean_8.fz', '/Users/oscar/Documents/Documentos/Docs/LME/CCD/OscuraImagenes/ANSAMP1_clean_9_.fz', '/Users/oscar/Documents/Documentos/Docs/LME/CCD/OscuraImagenes/ANSAMP1_VoltsV2_clean_10.fz', '/Users/oscar/Documents/Documentos/Docs/LME/CCD/OscuraImagenes/ANSAMP400_CleanAndReadSeq_2.fz', '/Users/oscar/Documents/Documentos/Docs/LME/CCD/OscuraImagenes/ANSAMP400_VoltsV2_11.fz']\n"
     ]
    }
   ],
   "source": [
    "print(contenido)"
   ]
  },
  {
   "cell_type": "code",
   "execution_count": null,
   "id": "45e7ff92",
   "metadata": {},
   "outputs": [],
   "source": []
  }
 ],
 "metadata": {
  "kernelspec": {
   "display_name": "Python 3 (ipykernel)",
   "language": "python",
   "name": "python3"
  },
  "language_info": {
   "codemirror_mode": {
    "name": "ipython",
    "version": 3
   },
   "file_extension": ".py",
   "mimetype": "text/x-python",
   "name": "python",
   "nbconvert_exporter": "python",
   "pygments_lexer": "ipython3",
   "version": "3.9.12"
  }
 },
 "nbformat": 4,
 "nbformat_minor": 5
}
