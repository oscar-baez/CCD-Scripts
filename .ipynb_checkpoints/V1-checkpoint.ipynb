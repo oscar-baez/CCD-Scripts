{
 "cells": [
  {
   "cell_type": "code",
   "execution_count": 19,
   "id": "aee723af",
   "metadata": {},
   "outputs": [],
   "source": [
    "import matplotlib.pyplot as plt\n",
    "import time \n",
    "import numpy as np\n",
    "from astropy.io import fits\n",
    "import os"
   ]
  },
  {
   "cell_type": "code",
   "execution_count": 22,
   "id": "2d851d26",
   "metadata": {
    "scrolled": false
   },
   "outputs": [],
   "source": [
    "directorio='/Users/oscar/Documents/Documentos/Docs/LME/CCD/OscuraImagenes/'\n",
    "contenido = os.listdir(directorio)\n",
    "hdulist = fits.open(directorio+contenido[1])\n",
    "scidata = hdulist[4].data\n"
   ]
  },
  {
   "cell_type": "code",
   "execution_count": 26,
   "id": "183644d6",
   "metadata": {},
   "outputs": [
    {
     "name": "stdout",
     "output_type": "stream",
     "text": [
      "['ANSAMP1_clean_8.fz', 'ANSAMP1_clean_9_.fz', 'ANSAMP1_VoltsV2_clean_10.fz', 'ANSAMP400_CleanAndReadSeq_2 - Copy.fz', 'ANSAMP400_CleanAndReadSeq_2.fz', 'ANSAMP400_VoltsV2_11.fz']\n"
     ]
    }
   ],
   "source": [
    "print(contenido)"
   ]
  },
  {
   "cell_type": "code",
   "execution_count": 24,
   "id": "64ccbd99",
   "metadata": {},
   "outputs": [
    {
     "data": {
      "text/plain": [
       "XTENSION= 'IMAGE   '           / IMAGE extension                                \n",
       "BITPIX  =                   32 / number of bits per data pixel                  \n",
       "NAXIS   =                    2 / number of data axes                            \n",
       "NAXIS1  =               134400 / length of data axis 1                          \n",
       "NAXIS2  =                 1300 / length of data axis 2                          \n",
       "PCOUNT  =                    0 / required keyword; must = 0                     \n",
       "GCOUNT  =                    1 / required keyword; must = 1                     \n",
       "ANSAMP  = '1       '           / Smart sequencer variable                       \n",
       "CCDNCOL = '2216    '           / Smart sequencer variable                       \n",
       "CCDNPRES= '7       '           / Smart sequencer variable                       \n",
       "CCDNROW = '2556    '           / Smart sequencer variable                       \n",
       "NCOL    = '1200    '           / Smart sequencer variable                       \n",
       "NCOL1   = '1107    '           / Smart sequencer variable                       \n",
       "NCOL2   = '93      '           / Smart sequencer variable                       \n",
       "NROW    = '1300    '           / Smart sequencer variable                       \n",
       "NSAMP   = '112     '           / Smart sequencer variable                       \n",
       "HIERARCH DELAY_H_OVERLAP = '50      ' / Smart sequencer variable                \n",
       "HIERARCH DELAY_INTEG_PED = '150     ' / Smart sequencer variable                \n",
       "HIERARCH DELAY_INTEG_SIG = '150     ' / Smart sequencer variable                \n",
       "HIERARCH DELAY_P_INIT = '120     ' / Smart sequencer variable                   \n",
       "HIERARCH DELAY_RG_WIDTH = '15      ' / Smart sequencer variable                 \n",
       "DELAY_SH= '40      '           / Smart sequencer variable                       \n",
       "HIERARCH DELAY_SIGDOWN = '5       ' / Smart sequencer variable                  \n",
       "HIERARCH DELAY_SWHIGH = '12      ' / Smart sequencer variable                   \n",
       "HIERARCH DELAY_S_INIT = '60      ' / Smart sequencer variable                   \n",
       "HIERARCH DELAY_V_OVERLAP = '700     ' / Smart sequencer variable                \n",
       "HIERARCH DELAY_DG_LOW = '15      ' / Smart sequencer variable                   \n",
       "HIERARCH DELAY_HOLD_UNTIL_CONV = '15      ' / Smart sequencer variable          \n",
       "HIERARCH DELAY_INTEG_AFTER_SW_HIGH = '4       ' / Smart sequencer variable      \n",
       "HIERARCH DELAY_MULTIPLEXER = '40      ' / Smart sequencer variable              \n",
       "HIERARCH DELAY_OG_LOW = '15      ' / Smart sequencer variable                   \n",
       "HIERARCH DELAY_RESET_CAP = '90      ' / Smart sequencer variable                \n",
       "HIERARCH DELAY_STOP_INTEG_BEFORE_TOGG = '4       ' / Smart sequencer variable   \n",
       "V1AH    = '5.000   '           / Internal variable                              \n",
       "V1AL    = '-2.500  '           / Internal variable                              \n",
       "V1BH    = '0.000   '           / Internal variable                              \n",
       "V1BL    = '0.000   '           / Internal variable                              \n",
       "V2CH    = '5.000   '           / Internal variable                              \n",
       "V2CL    = '-2.500  '           / Internal variable                              \n",
       "V3AH    = '5.000   '           / Internal variable                              \n",
       "V3AL    = '-2.500  '           / Internal variable                              \n",
       "V3BH    = '0.000   '           / Internal variable                              \n",
       "V3BL    = '0.000   '           / Internal variable                              \n",
       "H1AH    = '4.000   '           / Internal variable                              \n",
       "H1AL    = '-3.500  '           / Internal variable                              \n",
       "H1BH    = '0.000   '           / Internal variable                              \n",
       "H1BL    = '0.000   '           / Internal variable                              \n",
       "H2CH    = '4.000   '           / Internal variable                              \n",
       "H2CL    = '-3.500  '           / Internal variable                              \n",
       "H3AH    = '4.000   '           / Internal variable                              \n",
       "H3AL    = '-3.500  '           / Internal variable                              \n",
       "H3BH    = '0.000   '           / Internal variable                              \n",
       "H3BL    = '0.000   '           / Internal variable                              \n",
       "SWAH    = '3.500   '           / Internal variable                              \n",
       "SWAL    = '-10.000 '           / Internal variable                              \n",
       "SWBH    = '0.000   '           / Internal variable                              \n",
       "SWBL    = '0.000   '           / Internal variable                              \n",
       "RGAH    = '7.000   '           / Internal variable                              \n",
       "RGAL    = '-4.000  '           / Internal variable                              \n",
       "RGBH    = '0.000   '           / Internal variable                              \n",
       "RGBL    = '0.000   '           / Internal variable                              \n",
       "OGAH    = '-2.500  '           / Internal variable                              \n",
       "OGAL    = '-8.000  '           / Internal variable                              \n",
       "OGBH    = '0.000   '           / Internal variable                              \n",
       "OGBL    = '0.000   '           / Internal variable                              \n",
       "DGAH    = '-1.000  '           / Internal variable                              \n",
       "DGAL    = '-10.000 '           / Internal variable                              \n",
       "DGBH    = '0.000   '           / Internal variable                              \n",
       "DGBL    = '0.000   '           / Internal variable                              \n",
       "TGAH    = '4.500   '           / Internal variable                              \n",
       "TGAL    = '-3.000  '           / Internal variable                              \n",
       "TGBH    = '5.000   '           / Internal variable                              \n",
       "TGBL    = '5.000   '           / Internal variable                              \n",
       "LDAC_N  = '0       '           / Internal variable                              \n",
       "CLR_N   = '1       '           / Internal variable                              \n",
       "RESET_N = '1       '           / Internal variable                              \n",
       "SW_EN   = '0       '           / Internal variable                              \n",
       "VDRAIN  = '-22.000 '           / Internal variable                              \n",
       "VDD     = '-17.000 '           / Internal variable                              \n",
       "VR      = '-7.000  '           / Internal variable                              \n",
       "VSUB    = '70.000  '           / Internal variable                              \n",
       "VDD_SW  = '1       '           / Internal variable                              \n",
       "HIERARCH VDRAIN_SW = '1       ' / Internal variable                             \n",
       "VSUB_SW = '1       '           / Internal variable                              \n",
       "HIERARCH VSUB_LOAD_SW = '0       ' / Internal variable                          \n",
       "HIERARCH VSUB_RDIV_SW = '0       ' / Internal variable                          \n",
       "VR_SW   = '1       '           / Internal variable                              \n",
       "P15V_SW = '1       '           / Internal variable                              \n",
       "M15V_SW = '1       '           / Internal variable                              \n",
       "HIERARCH PACKSOURCE = '9       ' / Internal variable                            \n",
       "HIERARCH PACKSTART = '1       ' / Internal variable                             \n",
       "HIERARCH TESTPTRNA = '0       ' / Internal variable                             \n",
       "HIERARCH TESTPTRNB = '0       ' / Internal variable                             \n",
       "HIERARCH TESTPTRNC = '0       ' / Internal variable                             \n",
       "HIERARCH TESTPTRND = '0       ' / Internal variable                             \n",
       "CALSTART= '0       '           / Internal variable                              \n",
       "CALADONE= '1       '           / Internal variable                              \n",
       "CALBDONE= '1       '           / Internal variable                              \n",
       "CALCDONE= '1       '           / Internal variable                              \n",
       "CALDDONE= '1       '           / Internal variable                              \n",
       "CTRLRDY0= '1       '           / Internal variable                              \n",
       "CTRLRDY1= '1       '           / Internal variable                              \n",
       "PINIT   = '4       '           / Internal variable                              \n",
       "SINIT   = '8       '           / Internal variable                              \n",
       "PSAMP   = '4       '           / Internal variable                              \n",
       "SSAMP   = '4       '           / Internal variable                              \n",
       "CDSOUT  = '1       '           / Internal variable                              \n",
       "ECHO    = '0.000   '           / Internal variable                              \n",
       "OUTETH  = '1.000   '           / Internal variable                              \n",
       "LED0    = '1       '           / Internal variable                              \n",
       "LED1    = '1       '           / Internal variable                              \n",
       "LED2    = '0       '           / Internal variable                              \n",
       "LED3    = '0       '           / Internal variable                              \n",
       "LED4    = '0       '           / Internal variable                              \n",
       "LED5    = '0       '           / Internal variable                              \n",
       "BUFSEL  = '0       '           / Internal variable                              \n",
       "BUFSTART= '0       '           / Internal variable                              \n",
       "IPADDR  = '192.168.133.7'      / Internal variable                              \n",
       "ISSLAVE = '0       '           / Internal variable                              \n",
       "SYNCSTOP= '0       '           / Internal variable                              \n",
       "HIERARCH SYNCDELAY = '0       ' / Internal variable                             \n",
       "FRFCLK  = '100000  '           / Internal variable                              \n",
       "FRFMEAS = '1       '           / Internal variable                              \n",
       "SWA     = '-10.000 '           / Internal variable                              \n",
       "SWB     = '-0.046  '           / Internal variable                              \n",
       "OGA     = '-2.548  '           / Internal variable                              \n",
       "OGB     = '-0.058  '           / Internal variable                              \n",
       "RGA     = '6.943   '           / Internal variable                              \n",
       "RGB     = '-0.048  '           / Internal variable                              \n",
       "DGA     = '-1.057  '           / Internal variable                              \n",
       "DGB     = '-0.053  '           / Internal variable                              \n",
       "H1A     = '3.937   '           / Internal variable                              \n",
       "H1B     = '-0.058  '           / Internal variable                              \n",
       "H2C     = '-3.554  '           / Internal variable                              \n",
       "V2C     = '-2.607  '           / Internal variable                              \n",
       "H3A     = '3.933   '           / Internal variable                              \n",
       "H3B     = '0.605   '           / Internal variable                              \n",
       "V1A     = '4.892   '           / Internal variable                              \n",
       "V1B     = '-0.761  '           / Internal variable                              \n",
       "V3A     = '4.887   '           / Internal variable                              \n",
       "V3B     = '-0.117  '           / Internal variable                              \n",
       "TGA     = '4.448   '           / Internal variable                              \n",
       "TGB     = '4.946   '           / Internal variable                              \n",
       "V_P2V5  = '2.497   '           / Internal variable                              \n",
       "V_P1V0  = '0.993   '           / Internal variable                              \n",
       "V_P4V2  = '4.206   '           / Internal variable                              \n",
       "V_P1V8  = '1.787   '           / Internal variable                              \n",
       "V_P5V0  = '4.980   '           / Internal variable                              \n",
       "V_P2V5A = '2.492   '           / Internal variable                              \n",
       "V_P3V3  = '3.291   '           / Internal variable                              \n",
       "V_M15V0 = '-15.223 '           / Internal variable                              \n",
       "V_P12V0 = '11.778  '           / Internal variable                              \n",
       "V_P15V0 = '14.441  '           / Internal variable                              \n",
       "CCD_VDD = '-17.129 '           / Internal variable                              \n",
       "CCD_VR  = '-7.135  '           / Internal variable                              \n",
       "CCD_VSUB= '68.738  '           / Internal variable                              \n",
       "HIERARCH CCD_VDRAIN = '-22.310 ' / Internal variable                            \n",
       "ISMULTI = '0       '           / Multi-LTA mode                                 \n",
       "HIERARCH DATESTART = '2022-08-22T22:05:50' / Timestamp at start of readout      \n",
       "DATEEND = '2022-08-22T22:18:13' / Timestamp at end of readout                   \n",
       "DATE    = '2022-08-22T22:20:07' / file creation date (YYYY-MM-DDThh:mm:ss UT)   \n",
       "CHID    = '15      '           / amplifier ID for this HDU                      \n",
       "RUNID   = '9       '           / run index                                      \n",
       "NPIX    = '174720000'          / number of pixels read from LTA                 "
      ]
     },
     "execution_count": 24,
     "metadata": {},
     "output_type": "execute_result"
    }
   ],
   "source": [
    "hdulist[4].header"
   ]
  },
  {
   "cell_type": "code",
   "execution_count": 28,
   "id": "8758d8f6",
   "metadata": {},
   "outputs": [
    {
     "name": "stdout",
     "output_type": "stream",
     "text": [
      "134400 1300 112\n"
     ]
    }
   ],
   "source": [
    "tamx=hdulist[4].header['NAXIS1']\n",
    "tamy=hdulist[4].header['NAXIS2']\n",
    "nsamp=hdulist[4].header['NSAMP']\n",
    "print(tamx,tamy,nsamp)"
   ]
  },
  {
   "cell_type": "code",
   "execution_count": 23,
   "id": "3ff64210",
   "metadata": {},
   "outputs": [
    {
     "data": {
      "text/plain": [
       "(1300, 134400)"
      ]
     },
     "execution_count": 23,
     "metadata": {},
     "output_type": "execute_result"
    }
   ],
   "source": [
    "scidata.shape\n"
   ]
  },
  {
   "cell_type": "code",
   "execution_count": 13,
   "id": "2d6a437c",
   "metadata": {},
   "outputs": [],
   "source": [
    "img_individual= np.zeros((1300, 1200))\n",
    "img_total= np.zeros((100, 134400))"
   ]
  },
  {
   "cell_type": "code",
   "execution_count": 16,
   "id": "6bbceeb4",
   "metadata": {},
   "outputs": [
    {
     "ename": "ValueError",
     "evalue": "could not broadcast input array from shape (1300,) into shape (100,)",
     "output_type": "error",
     "traceback": [
      "\u001b[1;31m---------------------------------------------------------------------------\u001b[0m",
      "\u001b[1;31mValueError\u001b[0m                                Traceback (most recent call last)",
      "Input \u001b[1;32mIn [16]\u001b[0m, in \u001b[0;36m<cell line: 2>\u001b[1;34m()\u001b[0m\n\u001b[0;32m      5\u001b[0m     \u001b[38;5;28;01mfor\u001b[39;00m i \u001b[38;5;129;01min\u001b[39;00m \u001b[38;5;28mrange\u001b[39m(\u001b[38;5;241m0\u001b[39m,\u001b[38;5;241m112\u001b[39m):\n\u001b[0;32m      6\u001b[0m         \u001b[38;5;28;01mfor\u001b[39;00m k \u001b[38;5;129;01min\u001b[39;00m \u001b[38;5;28mrange\u001b[39m (\u001b[38;5;241m0\u001b[39m,\u001b[38;5;241m1200\u001b[39m):\n\u001b[1;32m----> 7\u001b[0m             img_total[:,k\u001b[38;5;241m+\u001b[39mi]\u001b[38;5;241m=\u001b[39mscidata[:,(k\u001b[38;5;241m*\u001b[39m\u001b[38;5;241m112\u001b[39m)\u001b[38;5;241m+\u001b[39mi]\n\u001b[0;32m      8\u001b[0m     \u001b[38;5;66;03m#plt.figure()\u001b[39;00m\n\u001b[0;32m      9\u001b[0m     \u001b[38;5;66;03m#plt.imshow(img_total, cmap='gray')\u001b[39;00m\n\u001b[0;32m     10\u001b[0m     \u001b[38;5;66;03m#plt.colorbar()\u001b[39;00m\n\u001b[0;32m     11\u001b[0m et \u001b[38;5;241m=\u001b[39m time\u001b[38;5;241m.\u001b[39mtime()\n",
      "\u001b[1;31mValueError\u001b[0m: could not broadcast input array from shape (1300,) into shape (100,)"
     ]
    }
   ],
   "source": [
    "st = time.time()\n",
    "for item in range(0,len(contenido)):\n",
    "    hdulist = fits.open(directorio+contenido[item])\n",
    "    scidata = hdulist[4].data\n",
    "    for i in range(0,112):\n",
    "        for k in range (0,1200):\n",
    "            img_total[:,k+i]=scidata[:,(k*112)+i]\n",
    "    #plt.figure()\n",
    "    #plt.imshow(img_total, cmap='gray')\n",
    "    #plt.colorbar()\n",
    "et = time.time()\n",
    "elapsed_time = et - st\n",
    "print('Execution time:', elapsed_time, 'seconds')"
   ]
  },
  {
   "cell_type": "code",
   "execution_count": 18,
   "id": "405295b4",
   "metadata": {},
   "outputs": [
    {
     "data": {
      "text/plain": [
       "<matplotlib.colorbar.Colorbar at 0x13aafef6bb0>"
      ]
     },
     "execution_count": 18,
     "metadata": {},
     "output_type": "execute_result"
    },
    {
     "data": {
      "image/png": "[encoded data removed]",
      "text/plain": [
       "<Figure size 432x288 with 2 Axes>"
      ]
     },
     "metadata": {
      "needs_background": "light"
     },
     "output_type": "display_data"
    }
   ],
   "source": [
    "for k in range (0,1200):\n",
    "    img_individual[:,k]=scidata[:,(k*112)+110]\n",
    "plt.figure()\n",
    "plt.imshow(img_individual, cmap='gray')\n",
    "plt.colorbar()"
   ]
  },
  {
   "cell_type": "code",
   "execution_count": null,
   "id": "4ae0f663",
   "metadata": {},
   "outputs": [],
   "source": []
  }
 ],
 "metadata": {
  "kernelspec": {
   "display_name": "Python 3 (ipykernel)",
   "language": "python",
   "name": "python3"
  },
  "language_info": {
   "codemirror_mode": {
    "name": "ipython",
    "version": 3
   },
   "file_extension": ".py",
   "mimetype": "text/x-python",
   "name": "python",
   "nbconvert_exporter": "python",
   "pygments_lexer": "ipython3",
   "version": "3.9.12"
  }
 },
 "nbformat": 4,
 "nbformat_minor": 5
}
