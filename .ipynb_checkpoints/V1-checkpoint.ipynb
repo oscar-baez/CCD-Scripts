{
 "cells": [
  {
   "cell_type": "code",
   "execution_count": 1,
   "id": "aee723af",
   "metadata": {},
   "outputs": [],
   "source": [
    "import matplotlib.pyplot as plt\n",
    "import time \n",
    "import numpy as np\n",
    "from astropy.io import fits\n",
    "import os"
   ]
  },
  {
   "cell_type": "code",
   "execution_count": 2,
   "id": "2d851d26",
   "metadata": {
    "scrolled": false
   },
   "outputs": [],
   "source": [
    "directorio='/Users/oscar/Documents/Documentos/Docs/LME/CCD/OscuraImagenes/'\n",
    "contenido = os.listdir(directorio)"
   ]
  },
  {
   "cell_type": "code",
   "execution_count": 4,
   "id": "6bbceeb4",
   "metadata": {},
   "outputs": [
    {
     "name": "stdout",
     "output_type": "stream",
     "text": [
      "Se termino la imagen  0\n",
      "Se termino la imagen  1\n",
      "Se termino la imagen  2\n",
      "Se termino la imagen  3\n",
      "Se termino la imagen  4\n",
      "Execution time: 13.50156283378601 seconds\n"
     ]
    }
   ],
   "source": [
    "# Loop sobre todas las imagenes, se guarda en img_total cada ccd en fila demultiplexado\n",
    "st = time.time()\n",
    "#nsamp=112\n",
    "#1200= tamx/nsamp\n",
    "#img_individual= np.zeros((tamx, tamy))\n",
    "for item in range(0,len(contenido)):\n",
    "    hdulist = fits.open(directorio+contenido[item])\n",
    "    tamx=int(hdulist[4].header['NAXIS1'])\n",
    "    tamy=int(hdulist[4].header['NAXIS2'])\n",
    "    nsamp=int(hdulist[4].header['NSAMP'])\n",
    "    scidata = hdulist[4].data\n",
    "    img_total= np.zeros((tamy, tamx))\n",
    "    for i in range(0,nsamp):\n",
    "        for k in range (0,int(tamx/nsamp)):\n",
    "            img_total[:,k+i]=scidata[:,(k*nsamp)+i]\n",
    "    print('Se termino la imagen ',item)   \n",
    "    #plt.figure()\n",
    "    #plt.imshow(img_total, cmap='gray')\n",
    "    #plt.colorbar()\n",
    "et = time.time()\n",
    "elapsed_time = et - st\n",
    "print('Execution time:', elapsed_time, 'seconds')"
   ]
  },
  {
   "cell_type": "code",
   "execution_count": null,
   "id": "405295b4",
   "metadata": {},
   "outputs": [],
   "source": [
    "#Prueba para imprimir una imagen \n",
    "#Faltan ajustes\n",
    "for k in range (0,1200):\n",
    "    img_individual[:,k]=scidata[:,(k*112)+110]\n",
    "plt.figure()\n",
    "plt.imshow(img_individual, cmap='gray')\n",
    "plt.colorbar()"
   ]
  },
  {
   "cell_type": "code",
   "execution_count": 6,
   "id": "eca8f849",
   "metadata": {},
   "outputs": [],
   "source": [
    "import concurrent.futures"
   ]
  },
  {
   "cell_type": "code",
   "execution_count": 7,
   "id": "4ae0f663",
   "metadata": {},
   "outputs": [],
   "source": [
    "#Probar paralelizando\n",
    "\n",
    "#Funcion a paralelizar demux\n",
    "def demux(nombre):\n",
    "    directorio='/Users/oscar/Documents/Documentos/Docs/LME/CCD/OscuraImagenes/'\n",
    "    hdulist = fits.open(directorio+nombre)\n",
    "    tamx=int(hdulist[4].header['NAXIS1'])\n",
    "    tamy=int(hdulist[4].header['NAXIS2'])\n",
    "    nsamp=int(hdulist[4].header['NSAMP'])\n",
    "    scidata = hdulist[4].data\n",
    "    img_total= np.zeros((tamy, tamx))\n",
    "    for i in range(0,nsamp):\n",
    "        for k in range (0,int(tamx/nsamp)):\n",
    "            img_total[:,k+i]=scidata[:,(k*112)+i]"
   ]
  },
  {
   "cell_type": "code",
   "execution_count": 10,
   "id": "c722a458",
   "metadata": {},
   "outputs": [
    {
     "name": "stdout",
     "output_type": "stream",
     "text": [
      "Execution time: 0.15447449684143066 seconds\n"
     ]
    }
   ],
   "source": [
    "st = time.time()\n",
    "with concurrent.futures.ProcessPoolExecutor() as executor:\n",
    "    executor.map(demux, contenido)\n",
    "et = time.time()\n",
    "elapsed_time = et - st\n",
    "print('Execution time:', elapsed_time, 'seconds')\n"
   ]
  },
  {
   "cell_type": "code",
   "execution_count": null,
   "id": "fdc4f3bf",
   "metadata": {},
   "outputs": [],
   "source": []
  }
 ],
 "metadata": {
  "kernelspec": {
   "display_name": "Python 3 (ipykernel)",
   "language": "python",
   "name": "python3"
  },
  "language_info": {
   "codemirror_mode": {
    "name": "ipython",
    "version": 3
   },
   "file_extension": ".py",
   "mimetype": "text/x-python",
   "name": "python",
   "nbconvert_exporter": "python",
   "pygments_lexer": "ipython3",
   "version": "3.9.12"
  }
 },
 "nbformat": 4,
 "nbformat_minor": 5
}
