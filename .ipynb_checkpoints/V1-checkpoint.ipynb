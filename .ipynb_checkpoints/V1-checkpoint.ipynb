{
 "cells": [
  {
   "cell_type": "code",
   "execution_count": 1,
   "id": "aee723af",
   "metadata": {},
   "outputs": [],
   "source": [
    "import matplotlib.pyplot as plt\n",
    "import time \n",
    "import numpy as np\n",
    "from astropy.io import fits\n",
    "import os"
   ]
  },
  {
   "cell_type": "code",
   "execution_count": 2,
   "id": "2d851d26",
   "metadata": {
    "scrolled": false
   },
   "outputs": [],
   "source": [
    "directorio='/Users/oscar/Documents/Documentos/Docs/LME/CCD/OscuraImagenes/'\n",
    "contenido = os.listdir(directorio)"
   ]
  },
  {
   "cell_type": "code",
   "execution_count": null,
   "id": "4c85a9f7",
   "metadata": {},
   "outputs": [],
   "source": [
    "##Prueba para verificar el algoritmo del demux\n",
    "#No hace falta correr\n",
    "for i in range(112):##se puede paralelizar este    \n",
    "    for k in range (1200):\n",
    "        img_total[:,k+nsamp*i]=scidata[:,(k*nsamp)+i]\n",
    "        print(\"En img_total[\",k +1200*i,\"]\",\" cargo scidata[\",(k*nsamp) + i,\"]   k=\",k,\"    i=\",i)"
   ]
  },
  {
   "cell_type": "code",
   "execution_count": 7,
   "id": "6bbceeb4",
   "metadata": {
    "scrolled": false
   },
   "outputs": [
    {
     "name": "stdout",
     "output_type": "stream",
     "text": [
      "Se termino la imagen  0\n",
      "Se termino la imagen  1\n",
      "Se termino la imagen  2\n",
      "Se termino la imagen  3\n",
      "Se termino la imagen  4\n",
      "Execution time: 15.436529397964478 seconds\n"
     ]
    }
   ],
   "source": [
    "# Loop sobre todas las imagenes, se guarda en img_total cada ccd en fila demultiplexado\n",
    "st = time.time()\n",
    "data=fits.HDUList([])\n",
    "for item in range(0,len(contenido)):\n",
    "    hdulist = fits.open(directorio+contenido[item])\n",
    "    tamx=int(hdulist[4].header['NAXIS1'])\n",
    "    tamy=int(hdulist[4].header['NAXIS2'])\n",
    "    nsamp=int(hdulist[4].header['NSAMP'])\n",
    "    scidata = hdulist[4].data\n",
    "    img_total= np.zeros((tamy, tamx),dtype='int4')\n",
    "    \n",
    "    for i in range(0,nsamp):\n",
    "        for k in range (0,int(tamx/nsamp)):\n",
    "            img_total[:,k+i*int(tamx/nsamp)]=scidata[:,(k*nsamp)+i]\n",
    "    data.append(fits.ImageHDU(img_total))\n",
    "    print('Se termino la imagen ',item)   \n",
    "    #plt.figure()\n",
    "    #plt.imshow(img_total, cmap='gray')\n",
    "    #plt.colorbar()\n",
    "\n",
    "et = time.time()\n",
    "elapsed_time = et - st\n",
    "print('Execution time:', elapsed_time, 'seconds')"
   ]
  },
  {
   "cell_type": "code",
   "execution_count": null,
   "id": "6c83a35d",
   "metadata": {},
   "outputs": [],
   "source": [
    "# Loop sobre todas las imagenes, se guarda en img_total cada ccd en fila demultiplexado\n",
    "st = time.time()\n",
    "data=fits.HDUList([])\n",
    "p=16\n",
    "ccd=0\n",
    "for item in range(0,len(contenido)):\n",
    "    hdulist = fits.open(directorio+contenido[item])\n",
    "    tamx=int(hdulist[4].header['NAXIS1'])\n",
    "    tamy=int(hdulist[4].header['NAXIS2'])\n",
    "    nsamp=int(hdulist[4].header['NSAMP'])\n",
    "    scidata = hdulist[4].data\n",
    "    img_total= np.zeros((tamy, tamx))\n",
    "    \n",
    "    for i in range(0,nsamp):\n",
    "        for k in range (0,int(tamx/nsamp)):\n",
    "            img_total[:,k+i*int(tamx/nsamp)]=scidata[:,(k*nsamp)+i]\n",
    "    data.append(fits.ImageHDU(img_total))\n",
    "    print('Se termino la imagen ',item)   \n",
    "    #plt.figure()\n",
    "    #plt.imshow(img_total, cmap='gray')\n",
    "    #plt.colorbar()\n",
    "\n",
    "et = time.time()\n",
    "elapsed_time = et - st\n",
    "print('Execution time:', elapsed_time, 'seconds')"
   ]
  },
  {
   "cell_type": "code",
   "execution_count": 5,
   "id": "572cda50",
   "metadata": {},
   "outputs": [
    {
     "data": {
      "text/plain": [
       "<matplotlib.colorbar.Colorbar at 0x1cc356682b0>"
      ]
     },
     "execution_count": 5,
     "metadata": {},
     "output_type": "execute_result"
    },
    {
     "data": {
      "image/png": "[encoded data removed]",
      "text/plain": [
       "<Figure size 432x288 with 2 Axes>"
      ]
     },
     "metadata": {
      "needs_background": "light"
     },
     "output_type": "display_data"
    }
   ],
   "source": [
    "plt.figure()\n",
    "plt.imshow(img_total[:,0:1200], cmap='gray')\n",
    "plt.colorbar()"
   ]
  },
  {
   "cell_type": "code",
   "execution_count": 4,
   "id": "a515c186",
   "metadata": {
    "scrolled": true
   },
   "outputs": [
    {
     "name": "stdout",
     "output_type": "stream",
     "text": [
      "Fin\n"
     ]
    }
   ],
   "source": [
    "##Creando un archivo fits\n",
    "primary_hdu=fits.PrimaryHDU(img_total)\n",
    "hdul=fits.HDUList(data)    \n",
    "hdul.writeto('new.fits',overwrite=True)\n",
    "print(\"Fin\")"
   ]
  },
  {
   "cell_type": "code",
   "execution_count": 5,
   "id": "63b144bf",
   "metadata": {},
   "outputs": [
    {
     "name": "stdout",
     "output_type": "stream",
     "text": [
      "Fin\n"
     ]
    }
   ],
   "source": [
    "primary_hdu1=fits.PrimaryHDU(img_total[:,0:1200])\n",
    "hdul=fits.HDUList([primary_hdu1])    \n",
    "hdul.writeto('1ccdimagen5.fits',overwrite=True)\n",
    "print(\"Fin\")"
   ]
  },
  {
   "cell_type": "code",
   "execution_count": 21,
   "id": "0bc28a78",
   "metadata": {},
   "outputs": [
    {
     "data": {
      "text/plain": [
       "astropy.io.fits.hdu.image.ImageHDU"
      ]
     },
     "execution_count": 21,
     "metadata": {},
     "output_type": "execute_result"
    }
   ],
   "source": [
    "type(data[4])"
   ]
  },
  {
   "cell_type": "code",
   "execution_count": null,
   "id": "e1077762",
   "metadata": {},
   "outputs": [],
   "source": [
    "import concurrent.futures"
   ]
  },
  {
   "cell_type": "code",
   "execution_count": null,
   "id": "4ae0f663",
   "metadata": {},
   "outputs": [],
   "source": [
    "#Probar paralelizando\n",
    "#Funcion a paralelizar demux\n",
    "def demux(nombre):\n",
    "    print(\"Comienza a demultiplexar \\n\")\n",
    "    hdulist = fits.open(nombre)\n",
    "    tamx=int(hdulist[4].header['NAXIS1'])\n",
    "    tamy=int(hdulist[4].header['NAXIS2'])\n",
    "    nsamp=int(hdulist[4].header['NSAMP'])\n",
    "    scidata = hdulist[4].data\n",
    "    img_total= np.zeros((tamy, tamx))\n",
    "    tamxpimg=int(tamx/nsamp)\n",
    "    \n",
    "    for i in range(nsamp):\n",
    "        for k in range (tamxpimg):\n",
    "            img_total[:,k+tamxpimg*i]=scidata[:,(k*nsamp)+i]\n",
    "    print('Se termino la imagen ') \n",
    "    "
   ]
  },
  {
   "cell_type": "code",
   "execution_count": null,
   "id": "32bbbcc5",
   "metadata": {},
   "outputs": [],
   "source": [
    "type(hdulist)"
   ]
  },
  {
   "cell_type": "code",
   "execution_count": null,
   "id": "f91a074e",
   "metadata": {},
   "outputs": [],
   "source": [
    "##Main\n",
    "if __name__ == '__main__':    \n",
    "    directorio='/Users/oscar/Documents/Documentos/Docs/LME/CCD/OscuraImagenes/'\n",
    "    contenido = os.listdir(directorio)\n",
    "    for j in range(0,len(contenido)):\n",
    "        contenido[j]=directorio+contenido[j]\n",
    "        \n",
    "    t1 = time.perf_counter()\n",
    "    #with concurrent.futures.ProcessPoolExecutor() as executor:\n",
    "    with concurrent.futures.ThreadPoolExecutor() as executor:\n",
    "        executor.map(demux, contenido)\n",
    "    t2 = time.perf_counter()\n",
    "    print(f'Finished in {t2-t1} seconds')\n"
   ]
  },
  {
   "cell_type": "code",
   "execution_count": null,
   "id": "94dd9c0a",
   "metadata": {},
   "outputs": [],
   "source": [
    "from numba import njit,prange"
   ]
  },
  {
   "cell_type": "code",
   "execution_count": null,
   "id": "4526409e",
   "metadata": {},
   "outputs": [],
   "source": [
    "#Funcion a optimizar\n",
    "#Necesita trabajar solo con arrays\n",
    "@njit(parallel=True)\n",
    "def demux2(tamx,tamy,nsamp,scidata):\n",
    "    img_total= np.zeros((tamy, tamx))\n",
    "    tamxpimg=int(tamx/nsamp)\n",
    "    for i in prange(nsamp):##se puede paralelizar este\n",
    "        \n",
    "        for k in range (tamxpimg):\n",
    "            img_total[:,k+tamxpimg*i]=scidata[:,(k*nsamp)+i]\n",
    "            \n",
    "    print('Se termino la imagen ')   \n"
   ]
  },
  {
   "cell_type": "code",
   "execution_count": null,
   "id": "b3a41eaf",
   "metadata": {},
   "outputs": [],
   "source": [
    "directorio='/Users/oscar/Documents/Documentos/Docs/LME/CCD/OscuraImagenes/'\n",
    "contenido = os.listdir(directorio) \n",
    "for j in range(0,len(contenido)):\n",
    "    contenido[j]=directorio+contenido[j]\n",
    "    \n",
    "st = time.time()\n",
    "for iterador in range(0,len(contenido)): #For para cada item del directorio\n",
    "    hdulist = fits.open(contenido[iterador])\n",
    "    tamx=int(hdulist[4].header['NAXIS1'])\n",
    "    tamy=int(hdulist[4].header['NAXIS2'])\n",
    "    nsamp=int(hdulist[4].header['NSAMP'])\n",
    "    scidata = hdulist[4].data\n",
    "    demux2(tamx,tamy,nsamp,scidata)\n",
    "et = time.time()\n",
    "elapsed_time = et - st\n",
    "print('First Execution time :', elapsed_time, 'seconds')\n",
    "\n",
    "\n",
    "st = time.time()\n",
    "for iterador in range(0,len(contenido)): #For para cada item del directorio\n",
    "    hdulist = fits.open(contenido[iterador])\n",
    "    tamx=int(hdulist[4].header['NAXIS1'])\n",
    "    tamy=int(hdulist[4].header['NAXIS2'])\n",
    "    nsamp=int(hdulist[4].header['NSAMP'])\n",
    "    scidata = hdulist[4].data\n",
    "    demux2(tamx,tamy,nsamp,scidata)\n",
    "\n",
    "et = time.time()\n",
    "elapsed_time = et - st\n",
    "print('Second Execution time :', elapsed_time, 'seconds')"
   ]
  },
  {
   "cell_type": "code",
   "execution_count": null,
   "id": "08021ce3",
   "metadata": {},
   "outputs": [],
   "source": []
  }
 ],
 "metadata": {
  "kernelspec": {
   "display_name": "Python 3 (ipykernel)",
   "language": "python",
   "name": "python3"
  },
  "language_info": {
   "codemirror_mode": {
    "name": "ipython",
    "version": 3
   },
   "file_extension": ".py",
   "mimetype": "text/x-python",
   "name": "python",
   "nbconvert_exporter": "python",
   "pygments_lexer": "ipython3",
   "version": "3.9.12"
  }
 },
 "nbformat": 4,
 "nbformat_minor": 5
}
