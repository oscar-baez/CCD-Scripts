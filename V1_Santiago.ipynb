{
 "cells": [
  {
   "cell_type": "code",
   "execution_count": 1,
   "id": "aee723af",
   "metadata": {},
   "outputs": [],
   "source": [
    "import matplotlib.pyplot as plt\n",
    "import time \n",
    "import numpy as np\n",
    "from astropy.io import fits\n",
    "import os "
   ]
  },
  {
   "cell_type": "code",
   "execution_count": 2,
   "id": "2d851d26",
   "metadata": {
    "scrolled": false
   },
   "outputs": [],
   "source": [
    "directorio='/Users/ferre/Desktop/OSCURA/ImagenesOSCURA/'\n",
    "contenido = os.listdir(directorio)"
   ]
  },
  {
   "cell_type": "code",
   "execution_count": null,
   "id": "4c85a9f7",
   "metadata": {},
   "outputs": [],
   "source": [
    "##Prueba para verificar el algoritmo del demux\n",
    "#No hace falta correr\n",
    "for i in range(112):##se puede paralelizar este    \n",
    "    for k in range (1200):\n",
    "        img_total[:,k+nsamp*i]=scidata[:,(k*nsamp)+i]\n",
    "        print(\"En img_total[\",k +1200*i,\"]\",\" cargo scidata[\",(k*nsamp) + i,\"]   k=\",k,\"    i=\",i)"
   ]
  },
  {
   "cell_type": "code",
   "execution_count": 3,
   "id": "6bbceeb4",
   "metadata": {
    "scrolled": true
   },
   "outputs": [
    {
     "name": "stdout",
     "output_type": "stream",
     "text": [
      "Se termino la imagen  0\n",
      "Se termino la imagen  1\n",
      "Se termino la imagen  2\n",
      "Se termino la imagen  3\n",
      "Se termino la imagen  4\n",
      "Execution time: 16.726267337799072 seconds\n"
     ]
    }
   ],
   "source": [
    "# Loop sobre todas las imagenes, se guarda en img_total cada ccd en fila demultiplexado\n",
    "st = time.time()\n",
    "#data=fits.HDUList([])\n",
    "img_CCD16=fits.HDUList([]) #Se crearan nro_imagenes*nsamp/16 (Ej: 5*112/6=35)\n",
    "\n",
    "for item in range(0,len(contenido)):\n",
    "    hdulist = fits.open(directorio+contenido[item])\n",
    "    tamx=int(hdulist[4].header['NAXIS1']) #134400\n",
    "    tamy=int(hdulist[4].header['NAXIS2']) #Varia \n",
    "    nsamp=int(hdulist[4].header['NSAMP']) #112\n",
    "    scidata = hdulist[4].data\n",
    "    div=16 #Variable multiplo de 2^n \n",
    "    \n",
    "    for j in range(0,int(nsamp/16)):                        #Se recorre nsamp/16=7 veces por cada imagen \n",
    "        img_parcial= np.zeros((tamy,int(div*(tamx/nsamp))),'i4')  #Se crean las imagenes parciales \n",
    "        for i in range(0,div):                               #Se recorre 16 veces para ir agarrando 16 CCD  \n",
    "            for k in range(0,int(tamx/nsamp)):              #Se recorre tamx/nsamp=1200 veces para agarrar un CCD\n",
    "                img_parcial[:,k+i*int(tamx/nsamp)]=scidata[:,(k*nsamp)+(i+div*j)] \n",
    "        img_CCD16.append(fits.ImageHDU(img_parcial))        #Se agrega una imagen a la lista tras recorrer 16 CCD\n",
    "    #Proceso de guardado\n",
    "    nombre=str(\"Imagen\"+str(item)+\".fits\")\n",
    "    hdul=fits.HDUList(img_CCD16)    \n",
    "    hdul.writeto(nombre,overwrite=True)\n",
    "    print('Se termino la imagen ',item)\n",
    "    img_CCD16.clear()\n",
    "et = time.time()\n",
    "elapsed_time = et - st\n",
    "print('Execution time:', elapsed_time, 'seconds')"
   ]
  },
  {
   "cell_type": "code",
   "execution_count": 116,
   "id": "572cda50",
   "metadata": {
    "scrolled": true
   },
   "outputs": [
    {
     "name": "stdout",
     "output_type": "stream",
     "text": [
      "(1300, 19200)\n"
     ]
    }
   ],
   "source": [
    "type(img_CCD16[0])\n",
    "print(img_CCD16[0].data.shape)\n",
    "\n",
    "#plt.figure()\n",
    "#plt.imshow(img_CCD16[:,0:7], cmap='gray')\n",
    "#plt.colorbar()"
   ]
  },
  {
   "cell_type": "code",
   "execution_count": 56,
   "id": "a515c186",
   "metadata": {
    "scrolled": true
   },
   "outputs": [
    {
     "ename": "TypeError",
     "evalue": "data object array(<astropy.io.fits.hdu.image.PrimaryHDU object at 0x00000216EB897E20>,\n      dtype=object) should have at least one dimension",
     "output_type": "error",
     "traceback": [
      "\u001b[1;31m---------------------------------------------------------------------------\u001b[0m",
      "\u001b[1;31mTypeError\u001b[0m                                 Traceback (most recent call last)",
      "Input \u001b[1;32mIn [56]\u001b[0m, in \u001b[0;36m<cell line: 2>\u001b[1;34m()\u001b[0m\n\u001b[0;32m      1\u001b[0m \u001b[38;5;66;03m##Creando un archivo fits\u001b[39;00m\n\u001b[1;32m----> 2\u001b[0m primary_hdu\u001b[38;5;241m=\u001b[39m\u001b[43mfits\u001b[49m\u001b[38;5;241;43m.\u001b[39;49m\u001b[43mPrimaryHDU\u001b[49m\u001b[43m(\u001b[49m\u001b[43mimg_CCD16\u001b[49m\u001b[43m[\u001b[49m\u001b[38;5;241;43m0\u001b[39;49m\u001b[43m]\u001b[49m\u001b[43m)\u001b[49m\n\u001b[0;32m      3\u001b[0m hdul\u001b[38;5;241m=\u001b[39mfits\u001b[38;5;241m.\u001b[39mHDUList(data)    \n\u001b[0;32m      4\u001b[0m hdul\u001b[38;5;241m.\u001b[39mwriteto(\u001b[38;5;124m'\u001b[39m\u001b[38;5;124mnew.fits\u001b[39m\u001b[38;5;124m'\u001b[39m,overwrite\u001b[38;5;241m=\u001b[39m\u001b[38;5;28;01mTrue\u001b[39;00m)\n",
      "File \u001b[1;32mC:\\ProgramData\\Anaconda3\\lib\\site-packages\\astropy\\io\\fits\\hdu\\image.py:1067\u001b[0m, in \u001b[0;36mPrimaryHDU.__init__\u001b[1;34m(self, data, header, do_not_scale_image_data, ignore_blank, uint, scale_back)\u001b[0m\n\u001b[0;32m   1026\u001b[0m \u001b[38;5;28;01mdef\u001b[39;00m \u001b[38;5;21m__init__\u001b[39m(\u001b[38;5;28mself\u001b[39m, data\u001b[38;5;241m=\u001b[39m\u001b[38;5;28;01mNone\u001b[39;00m, header\u001b[38;5;241m=\u001b[39m\u001b[38;5;28;01mNone\u001b[39;00m, do_not_scale_image_data\u001b[38;5;241m=\u001b[39m\u001b[38;5;28;01mFalse\u001b[39;00m,\n\u001b[0;32m   1027\u001b[0m              ignore_blank\u001b[38;5;241m=\u001b[39m\u001b[38;5;28;01mFalse\u001b[39;00m,\n\u001b[0;32m   1028\u001b[0m              uint\u001b[38;5;241m=\u001b[39m\u001b[38;5;28;01mTrue\u001b[39;00m, scale_back\u001b[38;5;241m=\u001b[39m\u001b[38;5;28;01mNone\u001b[39;00m):\n\u001b[0;32m   1029\u001b[0m     \u001b[38;5;124;03m\"\"\"\u001b[39;00m\n\u001b[0;32m   1030\u001b[0m \u001b[38;5;124;03m    Construct a primary HDU.\u001b[39;00m\n\u001b[0;32m   1031\u001b[0m \n\u001b[1;32m   (...)\u001b[0m\n\u001b[0;32m   1064\u001b[0m \u001b[38;5;124;03m        (default: None)\u001b[39;00m\n\u001b[0;32m   1065\u001b[0m \u001b[38;5;124;03m    \"\"\"\u001b[39;00m\n\u001b[1;32m-> 1067\u001b[0m     \u001b[38;5;28;43msuper\u001b[39;49m\u001b[43m(\u001b[49m\u001b[43m)\u001b[49m\u001b[38;5;241;43m.\u001b[39;49m\u001b[38;5;21;43m__init__\u001b[39;49m\u001b[43m(\u001b[49m\n\u001b[0;32m   1068\u001b[0m \u001b[43m        \u001b[49m\u001b[43mdata\u001b[49m\u001b[38;5;241;43m=\u001b[39;49m\u001b[43mdata\u001b[49m\u001b[43m,\u001b[49m\u001b[43m \u001b[49m\u001b[43mheader\u001b[49m\u001b[38;5;241;43m=\u001b[39;49m\u001b[43mheader\u001b[49m\u001b[43m,\u001b[49m\n\u001b[0;32m   1069\u001b[0m \u001b[43m        \u001b[49m\u001b[43mdo_not_scale_image_data\u001b[49m\u001b[38;5;241;43m=\u001b[39;49m\u001b[43mdo_not_scale_image_data\u001b[49m\u001b[43m,\u001b[49m\u001b[43m \u001b[49m\u001b[43muint\u001b[49m\u001b[38;5;241;43m=\u001b[39;49m\u001b[43muint\u001b[49m\u001b[43m,\u001b[49m\n\u001b[0;32m   1070\u001b[0m \u001b[43m        \u001b[49m\u001b[43mignore_blank\u001b[49m\u001b[38;5;241;43m=\u001b[39;49m\u001b[43mignore_blank\u001b[49m\u001b[43m,\u001b[49m\n\u001b[0;32m   1071\u001b[0m \u001b[43m        \u001b[49m\u001b[43mscale_back\u001b[49m\u001b[38;5;241;43m=\u001b[39;49m\u001b[43mscale_back\u001b[49m\u001b[43m)\u001b[49m\n\u001b[0;32m   1073\u001b[0m     \u001b[38;5;66;03m# insert the keywords EXTEND\u001b[39;00m\n\u001b[0;32m   1074\u001b[0m     \u001b[38;5;28;01mif\u001b[39;00m header \u001b[38;5;129;01mis\u001b[39;00m \u001b[38;5;28;01mNone\u001b[39;00m:\n",
      "File \u001b[1;32mC:\\ProgramData\\Anaconda3\\lib\\site-packages\\astropy\\io\\fits\\hdu\\image.py:147\u001b[0m, in \u001b[0;36m_ImageBaseHDU.__init__\u001b[1;34m(self, data, header, do_not_scale_image_data, uint, scale_back, ignore_blank, **kwargs)\u001b[0m\n\u001b[0;32m    142\u001b[0m     \u001b[38;5;28;01mreturn\u001b[39;00m\n\u001b[0;32m    143\u001b[0m \u001b[38;5;28;01melse\u001b[39;00m:\n\u001b[0;32m    144\u001b[0m     \u001b[38;5;66;03m# Setting data will update the header and set _bitpix, _bzero,\u001b[39;00m\n\u001b[0;32m    145\u001b[0m     \u001b[38;5;66;03m# and _bscale to the appropriate BITPIX for the data, and always\u001b[39;00m\n\u001b[0;32m    146\u001b[0m     \u001b[38;5;66;03m# sets _bzero=0 and _bscale=1.\u001b[39;00m\n\u001b[1;32m--> 147\u001b[0m     \u001b[38;5;28mself\u001b[39m\u001b[38;5;241m.\u001b[39mdata \u001b[38;5;241m=\u001b[39m data\n\u001b[0;32m    149\u001b[0m     \u001b[38;5;66;03m# Check again for BITPIX/BSCALE/BZERO in case they changed when the\u001b[39;00m\n\u001b[0;32m    150\u001b[0m     \u001b[38;5;66;03m# data was assigned. This can happen, for example, if the input\u001b[39;00m\n\u001b[0;32m    151\u001b[0m     \u001b[38;5;66;03m# data is an unsigned int numpy array.\u001b[39;00m\n\u001b[0;32m    152\u001b[0m     \u001b[38;5;28mself\u001b[39m\u001b[38;5;241m.\u001b[39m_bitpix \u001b[38;5;241m=\u001b[39m \u001b[38;5;28mself\u001b[39m\u001b[38;5;241m.\u001b[39m_header\u001b[38;5;241m.\u001b[39mget(\u001b[38;5;124m'\u001b[39m\u001b[38;5;124mBITPIX\u001b[39m\u001b[38;5;124m'\u001b[39m)\n",
      "File \u001b[1;32mC:\\ProgramData\\Anaconda3\\lib\\site-packages\\astropy\\utils\\decorators.py:788\u001b[0m, in \u001b[0;36mlazyproperty.__set__\u001b[1;34m(self, obj, val)\u001b[0m\n\u001b[0;32m    786\u001b[0m obj_dict \u001b[38;5;241m=\u001b[39m obj\u001b[38;5;241m.\u001b[39m\u001b[38;5;18m__dict__\u001b[39m\n\u001b[0;32m    787\u001b[0m \u001b[38;5;28;01mif\u001b[39;00m \u001b[38;5;28mself\u001b[39m\u001b[38;5;241m.\u001b[39mfset:\n\u001b[1;32m--> 788\u001b[0m     ret \u001b[38;5;241m=\u001b[39m \u001b[38;5;28;43mself\u001b[39;49m\u001b[38;5;241;43m.\u001b[39;49m\u001b[43mfset\u001b[49m\u001b[43m(\u001b[49m\u001b[43mobj\u001b[49m\u001b[43m,\u001b[49m\u001b[43m \u001b[49m\u001b[43mval\u001b[49m\u001b[43m)\u001b[49m\n\u001b[0;32m    789\u001b[0m     \u001b[38;5;28;01mif\u001b[39;00m ret \u001b[38;5;129;01mis\u001b[39;00m \u001b[38;5;129;01mnot\u001b[39;00m \u001b[38;5;28;01mNone\u001b[39;00m \u001b[38;5;129;01mand\u001b[39;00m obj_dict\u001b[38;5;241m.\u001b[39mget(\u001b[38;5;28mself\u001b[39m\u001b[38;5;241m.\u001b[39m_key) \u001b[38;5;129;01mis\u001b[39;00m ret:\n\u001b[0;32m    790\u001b[0m         \u001b[38;5;66;03m# By returning the value set the setter signals that it\u001b[39;00m\n\u001b[0;32m    791\u001b[0m         \u001b[38;5;66;03m# took over setting the value in obj.__dict__; this\u001b[39;00m\n\u001b[0;32m    792\u001b[0m         \u001b[38;5;66;03m# mechanism allows it to override the input value\u001b[39;00m\n\u001b[0;32m    793\u001b[0m         \u001b[38;5;28;01mreturn\u001b[39;00m\n",
      "File \u001b[1;32mC:\\ProgramData\\Anaconda3\\lib\\site-packages\\astropy\\io\\fits\\hdu\\image.py:264\u001b[0m, in \u001b[0;36m_ImageBaseHDU.data\u001b[1;34m(self, data)\u001b[0m\n\u001b[0;32m    260\u001b[0m         \u001b[38;5;28;01mraise\u001b[39;00m \u001b[38;5;167;01mTypeError\u001b[39;00m(\u001b[38;5;124m'\u001b[39m\u001b[38;5;124mdata object \u001b[39m\u001b[38;5;132;01m{!r}\u001b[39;00m\u001b[38;5;124m could not be coerced into an \u001b[39m\u001b[38;5;124m'\u001b[39m\n\u001b[0;32m    261\u001b[0m                         \u001b[38;5;124m'\u001b[39m\u001b[38;5;124mndarray\u001b[39m\u001b[38;5;124m'\u001b[39m\u001b[38;5;241m.\u001b[39mformat(data))\n\u001b[0;32m    263\u001b[0m     \u001b[38;5;28;01mif\u001b[39;00m data\u001b[38;5;241m.\u001b[39mshape \u001b[38;5;241m==\u001b[39m ():\n\u001b[1;32m--> 264\u001b[0m         \u001b[38;5;28;01mraise\u001b[39;00m \u001b[38;5;167;01mTypeError\u001b[39;00m(\u001b[38;5;124m'\u001b[39m\u001b[38;5;124mdata object \u001b[39m\u001b[38;5;132;01m{!r}\u001b[39;00m\u001b[38;5;124m should have at least one \u001b[39m\u001b[38;5;124m'\u001b[39m\n\u001b[0;32m    265\u001b[0m                         \u001b[38;5;124m'\u001b[39m\u001b[38;5;124mdimension\u001b[39m\u001b[38;5;124m'\u001b[39m\u001b[38;5;241m.\u001b[39mformat(data))\n\u001b[0;32m    267\u001b[0m \u001b[38;5;28mself\u001b[39m\u001b[38;5;241m.\u001b[39m\u001b[38;5;18m__dict__\u001b[39m[\u001b[38;5;124m'\u001b[39m\u001b[38;5;124mdata\u001b[39m\u001b[38;5;124m'\u001b[39m] \u001b[38;5;241m=\u001b[39m data\n\u001b[0;32m    268\u001b[0m \u001b[38;5;28mself\u001b[39m\u001b[38;5;241m.\u001b[39m_modified \u001b[38;5;241m=\u001b[39m \u001b[38;5;28;01mTrue\u001b[39;00m\n",
      "\u001b[1;31mTypeError\u001b[0m: data object array(<astropy.io.fits.hdu.image.PrimaryHDU object at 0x00000216EB897E20>,\n      dtype=object) should have at least one dimension"
     ]
    }
   ],
   "source": [
    "##Creando un archivo fits\n",
    "#primary_hdu=fits.PrimaryHDU(img_CCD16[0])\n",
    "#hdul=fits.HDUList(data)    \n",
    "#hdul.writeto('new.fits',overwrite=True)\n",
    "#print(\"Fin\")\n",
    "\n",
    "for j in range(0,len(img_CCD16)):        #Se analizan en grupos los nroimagenes*nsamp/div=5*112/16=35 archivos de 16 CCD c/u\n",
    "    for i in range(0,int(nsamp/div)):    #Correspondiendo de 0-6(1),7-13(2)...\n",
    "        for k in range(0,div):\n",
    "            primary_hdu=fits.PrimaryHDU(img_CCD16[j].(:,0:int(div*(tamx/nsamp))))\n",
    "            hdul=fits.HDUList(data)    \n",
    "            hdul.writeto(\"New.Fits\",i,\".\",j,overwrite=True)\n",
    "    print(\"Fin de la imagen:\",j)\n",
    "        "
   ]
  },
  {
   "cell_type": "code",
   "execution_count": 21,
   "id": "463bc274",
   "metadata": {},
   "outputs": [
    {
     "data": {
      "text/plain": [
       "astropy.io.fits.hdu.image.ImageHDU"
      ]
     },
     "execution_count": 21,
     "metadata": {},
     "output_type": "execute_result"
    }
   ],
   "source": [
    "type(data[4])"
   ]
  },
  {
   "cell_type": "code",
   "execution_count": null,
   "id": "e1077762",
   "metadata": {},
   "outputs": [],
   "source": [
    "import concurrent.futures"
   ]
  },
  {
   "cell_type": "code",
   "execution_count": null,
   "id": "4ae0f663",
   "metadata": {},
   "outputs": [],
   "source": [
    "#Probar paralelizando\n",
    "#Funcion a paralelizar demux\n",
    "def demux(nombre):\n",
    "    print(\"Comienza a demultiplexar \\n\")\n",
    "    hdulist = fits.open(nombre)\n",
    "    tamx=int(hdulist[4].header['NAXIS1'])\n",
    "    tamy=int(hdulist[4].header['NAXIS2'])\n",
    "    nsamp=int(hdulist[4].header['NSAMP'])\n",
    "    scidata = hdulist[4].data\n",
    "    img_total= np.zeros((tamy, tamx))\n",
    "    tamxpimg=int(tamx/nsamp)\n",
    "    \n",
    "    for i in range(nsamp):\n",
    "        for k in range (tamxpimg):\n",
    "            img_total[:,k+tamxpimg*i]=scidata[:,(k*nsamp)+i]\n",
    "    print('Se termino la imagen ') \n",
    "    "
   ]
  },
  {
   "cell_type": "code",
   "execution_count": null,
   "id": "d25d75e1",
   "metadata": {},
   "outputs": [],
   "source": [
    "type(hdulist)"
   ]
  },
  {
   "cell_type": "code",
   "execution_count": null,
   "id": "f91a074e",
   "metadata": {},
   "outputs": [],
   "source": [
    "##Main\n",
    "if __name__ == '__main__':    \n",
    "    directorio='/Users/oscar/Documents/Documentos/Docs/LME/CCD/OscuraImagenes/'\n",
    "    contenido = os.listdir(directorio)\n",
    "    for j in range(0,len(contenido)):\n",
    "        contenido[j]=directorio+contenido[j]\n",
    "        \n",
    "    t1 = time.perf_counter()\n",
    "    #with concurrent.futures.ProcessPoolExecutor() as executor:\n",
    "    with concurrent.futures.ThreadPoolExecutor() as executor:\n",
    "        executor.map(demux, contenido)\n",
    "    t2 = time.perf_counter()\n",
    "    print(f'Finished in {t2-t1} seconds')\n"
   ]
  },
  {
   "cell_type": "code",
   "execution_count": null,
   "id": "94dd9c0a",
   "metadata": {},
   "outputs": [],
   "source": [
    "from numba import njit,prange"
   ]
  },
  {
   "cell_type": "code",
   "execution_count": null,
   "id": "4526409e",
   "metadata": {},
   "outputs": [],
   "source": [
    "#Funcion a optimizar\n",
    "#Necesita trabajar solo con arrays\n",
    "@njit(parallel=True)\n",
    "def demux2(tamx,tamy,nsamp,scidata):\n",
    "    img_total= np.zeros((tamy, tamx))\n",
    "    tamxpimg=int(tamx/nsamp)\n",
    "    for i in prange(nsamp):##se puede paralelizar este\n",
    "        \n",
    "        for k in range (tamxpimg):\n",
    "            img_total[:,k+tamxpimg*i]=scidata[:,(k*nsamp)+i]\n",
    "            \n",
    "    print('Se termino la imagen ')   \n"
   ]
  },
  {
   "cell_type": "code",
   "execution_count": null,
   "id": "b3a41eaf",
   "metadata": {},
   "outputs": [],
   "source": [
    "directorio='/Users/oscar/Documents/Documentos/Docs/LME/CCD/OscuraImagenes/'\n",
    "contenido = os.listdir(directorio) \n",
    "for j in range(0,len(contenido)):\n",
    "    contenido[j]=directorio+contenido[j]\n",
    "    \n",
    "st = time.time()\n",
    "for iterador in range(0,len(contenido)): #For para cada item del directorio\n",
    "    hdulist = fits.open(contenido[iterador])\n",
    "    tamx=int(hdulist[4].header['NAXIS1'])\n",
    "    tamy=int(hdulist[4].header['NAXIS2'])\n",
    "    nsamp=int(hdulist[4].header['NSAMP'])\n",
    "    scidata = hdulist[4].data\n",
    "    demux2(tamx,tamy,nsamp,scidata)\n",
    "et = time.time()\n",
    "elapsed_time = et - st\n",
    "print('First Execution time :', elapsed_time, 'seconds')\n",
    "\n",
    "\n",
    "st = time.time()\n",
    "for iterador in range(0,len(contenido)): #For para cada item del directorio\n",
    "    hdulist = fits.open(contenido[iterador])\n",
    "    tamx=int(hdulist[4].header['NAXIS1'])\n",
    "    tamy=int(hdulist[4].header['NAXIS2'])\n",
    "    nsamp=int(hdulist[4].header['NSAMP'])\n",
    "    scidata = hdulist[4].data\n",
    "    demux2(tamx,tamy,nsamp,scidata)\n",
    "\n",
    "et = time.time()\n",
    "elapsed_time = et - st\n",
    "print('Second Execution time :', elapsed_time, 'seconds')"
   ]
  },
  {
   "cell_type": "code",
   "execution_count": null,
   "id": "08021ce3",
   "metadata": {},
   "outputs": [],
   "source": []
  }
 ],
 "metadata": {
  "kernelspec": {
   "display_name": "Python 3 (ipykernel)",
   "language": "python",
   "name": "python3"
  },
  "language_info": {
   "codemirror_mode": {
    "name": "ipython",
    "version": 3
   },
   "file_extension": ".py",
   "mimetype": "text/x-python",
   "name": "python",
   "nbconvert_exporter": "python",
   "pygments_lexer": "ipython3",
   "version": "3.9.12"
  }
 },
 "nbformat": 4,
 "nbformat_minor": 5
}
