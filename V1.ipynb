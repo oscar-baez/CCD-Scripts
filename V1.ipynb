{
 "cells": [
  {
   "cell_type": "code",
   "execution_count": 2,
   "id": "aee723af",
   "metadata": {},
   "outputs": [],
   "source": [
    "import matplotlib.pyplot as plt\n",
    "import time \n",
    "import numpy as np\n",
    "from astropy.io import fits\n",
    "import os"
   ]
  },
  {
   "cell_type": "code",
   "execution_count": 12,
   "id": "2d851d26",
   "metadata": {
    "scrolled": false
   },
   "outputs": [],
   "source": [
    "directorio='/Users/oscar/Documents/Documentos/Docs/LME/CCD/OscuraImagenes/'\n",
    "contenido = os.listdir(directorio)\n",
    "hdulist = fits.open(directorio+contenido[4])\n",
    "scidata = hdulist[4].data\n"
   ]
  },
  {
   "cell_type": "code",
   "execution_count": 13,
   "id": "3ff64210",
   "metadata": {},
   "outputs": [
    {
     "data": {
      "text/plain": [
       "(100, 134400)"
      ]
     },
     "execution_count": 13,
     "metadata": {},
     "output_type": "execute_result"
    }
   ],
   "source": [
    "scidata.shape\n"
   ]
  },
  {
   "cell_type": "code",
   "execution_count": 14,
   "id": "2d6a437c",
   "metadata": {},
   "outputs": [],
   "source": [
    "img_individual= np.zeros((100, 1200))\n",
    "img_total= np.zeros((100, 134400))"
   ]
  },
  {
   "cell_type": "code",
   "execution_count": 16,
   "id": "6bbceeb4",
   "metadata": {},
   "outputs": [
    {
     "ename": "ValueError",
     "evalue": "could not broadcast input array from shape (1300,) into shape (100,)",
     "output_type": "error",
     "traceback": [
      "\u001b[1;31m---------------------------------------------------------------------------\u001b[0m",
      "\u001b[1;31mValueError\u001b[0m                                Traceback (most recent call last)",
      "Input \u001b[1;32mIn [16]\u001b[0m, in \u001b[0;36m<cell line: 2>\u001b[1;34m()\u001b[0m\n\u001b[0;32m      5\u001b[0m     \u001b[38;5;28;01mfor\u001b[39;00m i \u001b[38;5;129;01min\u001b[39;00m \u001b[38;5;28mrange\u001b[39m(\u001b[38;5;241m0\u001b[39m,\u001b[38;5;241m112\u001b[39m):\n\u001b[0;32m      6\u001b[0m         \u001b[38;5;28;01mfor\u001b[39;00m k \u001b[38;5;129;01min\u001b[39;00m \u001b[38;5;28mrange\u001b[39m (\u001b[38;5;241m0\u001b[39m,\u001b[38;5;241m1200\u001b[39m):\n\u001b[1;32m----> 7\u001b[0m             img_total[:,k\u001b[38;5;241m+\u001b[39mi]\u001b[38;5;241m=\u001b[39mscidata[:,(k\u001b[38;5;241m*\u001b[39m\u001b[38;5;241m112\u001b[39m)\u001b[38;5;241m+\u001b[39mi]\n\u001b[0;32m      8\u001b[0m     \u001b[38;5;66;03m#plt.figure()\u001b[39;00m\n\u001b[0;32m      9\u001b[0m     \u001b[38;5;66;03m#plt.imshow(img_total, cmap='gray')\u001b[39;00m\n\u001b[0;32m     10\u001b[0m     \u001b[38;5;66;03m#plt.colorbar()\u001b[39;00m\n\u001b[0;32m     11\u001b[0m et \u001b[38;5;241m=\u001b[39m time\u001b[38;5;241m.\u001b[39mtime()\n",
      "\u001b[1;31mValueError\u001b[0m: could not broadcast input array from shape (1300,) into shape (100,)"
     ]
    }
   ],
   "source": [
    "st = time.time()\n",
    "for item in range(0,len(contenido)):\n",
    "    hdulist = fits.open(directorio+contenido[item])\n",
    "    scidata = hdulist[4].data\n",
    "    for i in range(0,112):\n",
    "        for k in range (0,1200):\n",
    "            img_total[:,k+i]=scidata[:,(k*112)+i]\n",
    "    #plt.figure()\n",
    "    #plt.imshow(img_total, cmap='gray')\n",
    "    #plt.colorbar()\n",
    "et = time.time()\n",
    "elapsed_time = et - st\n",
    "print('Execution time:', elapsed_time, 'seconds')"
   ]
  },
  {
   "cell_type": "code",
   "execution_count": 22,
   "id": "405295b4",
   "metadata": {},
   "outputs": [
    {
     "data": {
      "text/plain": [
       "<matplotlib.colorbar.Colorbar at 0x2031b93f370>"
      ]
     },
     "execution_count": 22,
     "metadata": {},
     "output_type": "execute_result"
    },
    {
     "data": {
      "image/png": "[encoded data removed]",
      "text/plain": [
       "<Figure size 432x288 with 2 Axes>"
      ]
     },
     "metadata": {
      "needs_background": "light"
     },
     "output_type": "display_data"
    }
   ],
   "source": [
    "for k in range (0,1200):\n",
    "    img_individual[:,k]=scidata[:,(k*112)+5]\n",
    "plt.figure()\n",
    "plt.imshow(img_individual, cmap='gray')\n",
    "plt.colorbar()"
   ]
  },
  {
   "cell_type": "code",
   "execution_count": 4,
   "id": "04aab964",
   "metadata": {},
   "outputs": [
    {
     "name": "stdout",
     "output_type": "stream",
     "text": [
      "abccde\n"
     ]
    }
   ],
   "source": [
    "a='abc'\n",
    "b='cde'\n",
    "print(a+b)"
   ]
  },
  {
   "cell_type": "code",
   "execution_count": null,
   "id": "4ae0f663",
   "metadata": {},
   "outputs": [],
   "source": []
  }
 ],
 "metadata": {
  "kernelspec": {
   "display_name": "Python 3 (ipykernel)",
   "language": "python",
   "name": "python3"
  },
  "language_info": {
   "codemirror_mode": {
    "name": "ipython",
    "version": 3
   },
   "file_extension": ".py",
   "mimetype": "text/x-python",
   "name": "python",
   "nbconvert_exporter": "python",
   "pygments_lexer": "ipython3",
   "version": "3.9.12"
  }
 },
 "nbformat": 4,
 "nbformat_minor": 5
}
