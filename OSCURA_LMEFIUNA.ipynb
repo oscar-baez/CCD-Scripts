{
 "cells": [
  {
   "cell_type": "code",
   "execution_count": 1,
   "id": "aee723af",
   "metadata": {},
   "outputs": [],
   "source": [
    "import matplotlib.pyplot as plt\n",
    "import time \n",
    "import numpy as np\n",
    "from astropy.io import fits\n",
    "import os "
   ]
  },
  {
   "cell_type": "code",
   "execution_count": 2,
   "id": "2d851d26",
   "metadata": {
    "scrolled": false
   },
   "outputs": [],
   "source": [
    "directorio='Ingrese su directorio' #Creacion del directorio donde se ubican las imagenes\n",
    "contenido = os.listdir(directorio)"
   ]
  },
  {
   "cell_type": "markdown",
   "id": "c45489b5",
   "metadata": {},
   "source": [
    "# PROCESO DE DEMULTIPLEXADO"
   ]
  },
  {
   "cell_type": "code",
   "execution_count": 121,
   "id": "6bbceeb4",
   "metadata": {
    "scrolled": true
   },
   "outputs": [
    {
     "name": "stdout",
     "output_type": "stream",
     "text": [
      "Se termino la imagen  0\n",
      "Se termino la imagen  1\n",
      "Se termino la imagen  2\n",
      "Se termino la imagen  3\n",
      "Se termino la imagen  4\n",
      "Execution time: 17.37893772125244 seconds\n"
     ]
    }
   ],
   "source": [
    "# Loop sobre todas las imagenes, se guarda en img_CDD16 cada imagen en nsamp/div archivos correspondientes a 16 CCD c/u.\n",
    "st = time.time()\n",
    "img_CCD16=fits.HDUList([])\n",
    "\n",
    "for item in range(0,len(contenido)): #Recorrido sobre las imagenes en RAW (imagenes crudas)\n",
    "    hdulist = fits.open(directorio+contenido[item])\n",
    "    tamx=int(hdulist[4].header['NAXIS1']) \n",
    "    tamy=int(hdulist[4].header['NAXIS2']) \n",
    "    nsamp=int(hdulist[4].header['NSAMP']) \n",
    "    ncol=int(hdulist[4].header['NCOL'])\n",
    "    ccdncol=int(hdulist[4].header['CCDNCOL'])\n",
    "    scidata = hdulist[4].data\n",
    "    tamxpimg=int(tamx/nsamp)\n",
    "    div=16 #Variable multiplo de 2^n \n",
    "    \n",
    "    #Proceso que recorre las imagenes en el directorio, se separa una imagen en archivos de lectura de 16 CCD c/u.\n",
    "    #Dichas imagenes van sobreescribiendose dentro de una lista para su posterior guardado como nuevo archivo.\n",
    "    for j in range(0,int(nsamp/16)):                         \n",
    "        img_parcial= np.zeros(tamy,tamxpimg,dtype='i4')   \n",
    "        for i in range(0,div):                                 \n",
    "            for k in range(0,tamxpimg):              \n",
    "                img_parcial[:,k+i*tamxpimg]=scidata[:,(k*nsamp)+(i+div*j)] \n",
    "    #Proceso en el que se elimina el offset de cada imagen en base al analisis de la zona de overscan.\n",
    "    #Darle una solucion/optimizacion al proceso de guardado\n",
    "            for p in range(tamy):\n",
    "                offset=np.mean(img_parcial[p,(tamxpimg-int(ncol-ccdncol/2)):])\n",
    "                img_parcial[p,:]=img_individual[p,:]-offset\n",
    "        img_CCD16.append(fits.ImageHDU(img_parcial))        \n",
    "        \n",
    "    #Proceso de guardado en el que se crean las nuevas imagenes.\n",
    "    nombre=str(\"Imagen\"+str(item)+\".fits\")\n",
    "    hdul=fits.HDUList(img_CCD16)    \n",
    "    hdul.writeto(nombre,overwrite=True)\n",
    "    print('Se termino la imagen ',item)\n",
    "    img_CCD16.clear()\n",
    "et = time.time()\n",
    "elapsed_time = et - st\n",
    "print('Execution time:', elapsed_time, 'seconds')\n",
    "#Resultado parcial de momento: Se obtienen 7 archivos por cada imagen de OSCURA los cuales corresponden a 16 CCD cada uno,\n",
    "#los mismos archivos ya no poseen offset y deben de calcularse aun su ganancia, procesar dichos valores y cargarlos\n",
    "#a una posterior base de datos. "
   ]
  },
  {
   "cell_type": "markdown",
   "id": "07d64aba",
   "metadata": {},
   "source": [
    "# PROCESO DE PARALELIZACION"
   ]
  },
  {
   "cell_type": "code",
   "execution_count": null,
   "id": "e1077762",
   "metadata": {},
   "outputs": [],
   "source": [
    "import concurrent.futures"
   ]
  },
  {
   "cell_type": "code",
   "execution_count": null,
   "id": "4ae0f663",
   "metadata": {},
   "outputs": [],
   "source": [
    "#Prueba de paralelizado\n",
    "#Funcion a paralelizar demux\n",
    "def demux(nombre):\n",
    "    print(\"Comienza a demultiplexar \\n\")\n",
    "    hdulist = fits.open(nombre)\n",
    "    tamx=int(hdulist[4].header['NAXIS1'])\n",
    "    tamy=int(hdulist[4].header['NAXIS2'])\n",
    "    nsamp=int(hdulist[4].header['NSAMP'])\n",
    "    scidata = hdulist[4].data\n",
    "    img_total= np.zeros((tamy, tamx))\n",
    "    tamxpimg=int(tamx/nsamp)\n",
    "    \n",
    "    for i in range(nsamp):\n",
    "        for k in range (tamxpimg):\n",
    "            img_total[:,k+tamxpimg*i]=scidata[:,(k*nsamp)+i]\n",
    "    print('Se termino la imagen ') \n",
    "    "
   ]
  },
  {
   "cell_type": "code",
   "execution_count": null,
   "id": "d25d75e1",
   "metadata": {},
   "outputs": [],
   "source": [
    "type(hdulist)"
   ]
  },
  {
   "cell_type": "code",
   "execution_count": null,
   "id": "f91a074e",
   "metadata": {},
   "outputs": [],
   "source": [
    "##Main\n",
    "if __name__ == '__main__':    \n",
    "    directorio='Ingrese su directorio' \n",
    "    contenido = os.listdir(directorio)\n",
    "    for j in range(0,len(contenido)):\n",
    "        contenido[j]=directorio+contenido[j]\n",
    "        \n",
    "    t1 = time.perf_counter()\n",
    "    #with concurrent.futures.ProcessPoolExecutor() as executor:\n",
    "    with concurrent.futures.ThreadPoolExecutor() as executor:\n",
    "        executor.map(demux, contenido)\n",
    "    t2 = time.perf_counter()\n",
    "    print(f'Finished in {t2-t1} seconds')\n"
   ]
  },
  {
   "cell_type": "code",
   "execution_count": null,
   "id": "94dd9c0a",
   "metadata": {},
   "outputs": [],
   "source": [
    "from numba import njit,prange"
   ]
  },
  {
   "cell_type": "code",
   "execution_count": null,
   "id": "4526409e",
   "metadata": {},
   "outputs": [],
   "source": [
    "#Funcion a optimizar\n",
    "#Necesita trabajar solo con arrays\n",
    "@njit(parallel=True)\n",
    "def demux2(tamx,tamy,nsamp,scidata):\n",
    "    img_total= np.zeros((tamy, tamx))\n",
    "    tamxpimg=int(tamx/nsamp)\n",
    "    for i in prange(nsamp):##se puede paralelizar este\n",
    "        \n",
    "        for k in range (tamxpimg):\n",
    "            img_total[:,k+tamxpimg*i]=scidata[:,(k*nsamp)+i]\n",
    "            \n",
    "    print('Se termino la imagen ')   \n"
   ]
  },
  {
   "cell_type": "code",
   "execution_count": null,
   "id": "b3a41eaf",
   "metadata": {},
   "outputs": [],
   "source": [
    "directorio='Ingrese su directorio' \n",
    "contenido = os.listdir(directorio) \n",
    "for j in range(0,len(contenido)):\n",
    "    contenido[j]=directorio+contenido[j]\n",
    "    \n",
    "st = time.time()\n",
    "for iterador in range(0,len(contenido)): #For para cada item del directorio\n",
    "    hdulist = fits.open(contenido[iterador])\n",
    "    tamx=int(hdulist[4].header['NAXIS1'])\n",
    "    tamy=int(hdulist[4].header['NAXIS2'])\n",
    "    nsamp=int(hdulist[4].header['NSAMP'])\n",
    "    scidata = hdulist[4].data\n",
    "    demux2(tamx,tamy,nsamp,scidata)\n",
    "et = time.time()\n",
    "elapsed_time = et - st\n",
    "print('First Execution time :', elapsed_time, 'seconds')\n",
    "\n",
    "st = time.time()\n",
    "for iterador in range(0,len(contenido)): #For para cada item del directorio\n",
    "    hdulist = fits.open(contenido[iterador])\n",
    "    tamx=int(hdulist[4].header['NAXIS1'])\n",
    "    tamy=int(hdulist[4].header['NAXIS2'])\n",
    "    nsamp=int(hdulist[4].header['NSAMP'])\n",
    "    scidata = hdulist[4].data\n",
    "    demux2(tamx,tamy,nsamp,scidata)\n",
    "\n",
    "et = time.time()\n",
    "elapsed_time = et - st\n",
    "print('Second Execution time :', elapsed_time, 'seconds')"
   ]
  },
  {
   "cell_type": "code",
   "execution_count": null,
   "id": "08021ce3",
   "metadata": {},
   "outputs": [],
   "source": []
  }
 ],
 "metadata": {
  "kernelspec": {
   "display_name": "Python 3 (ipykernel)",
   "language": "python",
   "name": "python3"
  },
  "language_info": {
   "codemirror_mode": {
    "name": "ipython",
    "version": 3
   },
   "file_extension": ".py",
   "mimetype": "text/x-python",
   "name": "python",
   "nbconvert_exporter": "python",
   "pygments_lexer": "ipython3",
   "version": "3.9.12"
  }
 },
 "nbformat": 4,
 "nbformat_minor": 5
}
